{
  "nbformat": 4,
  "nbformat_minor": 0,
  "metadata": {
    "colab": {
      "name": "Transfer Learning with TensorFlow.ipynb",
      "provenance": [],
      "collapsed_sections": [],
      "authorship_tag": "ABX9TyMfgmC32BohJOj21e9Glr89",
      "include_colab_link": true
    },
    "kernelspec": {
      "name": "python3",
      "display_name": "Python 3"
    },
    "language_info": {
      "name": "python"
    },
    "accelerator": "GPU",
    "gpuClass": "standard"
  },
  "cells": [
    {
      "cell_type": "markdown",
      "metadata": {
        "id": "view-in-github",
        "colab_type": "text"
      },
      "source": [
        "<a href=\"https://colab.research.google.com/github/ahmad1jalal/Transfer-Learning-with-TensorFlow/blob/main/Transfer_Learning_with_TensorFlow.ipynb\" target=\"_parent\"><img src=\"https://colab.research.google.com/assets/colab-badge.svg\" alt=\"Open In Colab\"/></a>"
      ]
    },
    {
      "cell_type": "markdown",
      "source": [
        "## Importing Libraries...."
      ],
      "metadata": {
        "id": "P20g-_BGckFQ"
      }
    },
    {
      "cell_type": "code",
      "execution_count": null,
      "metadata": {
        "id": "P0unpD80cSjQ"
      },
      "outputs": [],
      "source": [
        "import pandas as pd\n",
        "import numpy as np\n",
        "import tensorflow as tf\n",
        "import tensorflow_hub as hub\n",
        "import zipfile\n",
        "import pathlib\n",
        "import os\n",
        "import matplotlib.pyplot as plt\n",
        "import seaborn as sns\n",
        "from tensorflow.keras.preprocessing.image import ImageDataGenerator\n",
        "import datetime\n",
        "from tensorflow.keras.callbacks import TensorBoard\n",
        "from tensorflow.keras.layers import Dense\n",
        "from tensorflow.keras.models import Sequential\n",
        "from tensorflow.keras.layers.experimental import preprocessing"
      ]
    },
    {
      "cell_type": "code",
      "source": [
        "# check for GPU\n",
        "!nvidia-smi"
      ],
      "metadata": {
        "colab": {
          "base_uri": "https://localhost:8080/"
        },
        "id": "cmYR0w6OeEoa",
        "outputId": "4e0119e7-04c4-491a-b1c2-29e526e5a35f"
      },
      "execution_count": null,
      "outputs": [
        {
          "output_type": "stream",
          "name": "stdout",
          "text": [
            "Thu Aug  4 20:41:01 2022       \n",
            "+-----------------------------------------------------------------------------+\n",
            "| NVIDIA-SMI 460.32.03    Driver Version: 460.32.03    CUDA Version: 11.2     |\n",
            "|-------------------------------+----------------------+----------------------+\n",
            "| GPU  Name        Persistence-M| Bus-Id        Disp.A | Volatile Uncorr. ECC |\n",
            "| Fan  Temp  Perf  Pwr:Usage/Cap|         Memory-Usage | GPU-Util  Compute M. |\n",
            "|                               |                      |               MIG M. |\n",
            "|===============================+======================+======================|\n",
            "|   0  Tesla T4            Off  | 00000000:00:04.0 Off |                    0 |\n",
            "| N/A   76C    P0    35W /  70W |   8958MiB / 15109MiB |      0%      Default |\n",
            "|                               |                      |                  N/A |\n",
            "+-------------------------------+----------------------+----------------------+\n",
            "                                                                               \n",
            "+-----------------------------------------------------------------------------+\n",
            "| Processes:                                                                  |\n",
            "|  GPU   GI   CI        PID   Type   Process name                  GPU Memory |\n",
            "|        ID   ID                                                   Usage      |\n",
            "|=============================================================================|\n",
            "+-----------------------------------------------------------------------------+\n"
          ]
        }
      ]
    },
    {
      "cell_type": "code",
      "source": [
        "# downloading the data\n",
        "!wget https://storage.googleapis.com/ztm_tf_course/food_vision/10_food_classes_10_percent.zip"
      ],
      "metadata": {
        "id": "cAqbO3steJzR",
        "colab": {
          "base_uri": "https://localhost:8080/"
        },
        "outputId": "d7e56bf2-b858-4a9e-b143-88cff0fd8a32"
      },
      "execution_count": null,
      "outputs": [
        {
          "output_type": "stream",
          "name": "stdout",
          "text": [
            "--2022-08-04 20:41:01--  https://storage.googleapis.com/ztm_tf_course/food_vision/10_food_classes_10_percent.zip\n",
            "Resolving storage.googleapis.com (storage.googleapis.com)... 142.250.188.48, 172.217.15.80, 172.217.0.48, ...\n",
            "Connecting to storage.googleapis.com (storage.googleapis.com)|142.250.188.48|:443... connected.\n",
            "HTTP request sent, awaiting response... 200 OK\n",
            "Length: 168546183 (161M) [application/zip]\n",
            "Saving to: ‘10_food_classes_10_percent.zip.3’\n",
            "\n",
            "10_food_classes_10_ 100%[===================>] 160.74M   210MB/s    in 0.8s    \n",
            "\n",
            "2022-08-04 20:41:02 (210 MB/s) - ‘10_food_classes_10_percent.zip.3’ saved [168546183/168546183]\n",
            "\n"
          ]
        }
      ]
    },
    {
      "cell_type": "code",
      "source": [
        "# unzip the data.....\n",
        "zipfile = zipfile.ZipFile(\"10_food_classes_10_percent.zip\",\"r\")\n",
        "zipfile.extractall()\n",
        "zipfile.close()"
      ],
      "metadata": {
        "id": "PZKSESNPL5Mn"
      },
      "execution_count": null,
      "outputs": []
    },
    {
      "cell_type": "code",
      "source": [
        "# walk through the directories....\n",
        "for dirpath,dirnames,filenames in os.walk(\"10_food_classes_10_percent\"):\n",
        "  print(f\"There are {len(dirnames)} directories and {len(filenames)} images in {dirpath}\")"
      ],
      "metadata": {
        "colab": {
          "base_uri": "https://localhost:8080/"
        },
        "id": "ulRJ3PeJMY2a",
        "outputId": "1b8c30fb-c05e-4c5a-e7f3-ad4e5d22bba8"
      },
      "execution_count": null,
      "outputs": [
        {
          "output_type": "stream",
          "name": "stdout",
          "text": [
            "There are 2 directories and 0 images in 10_food_classes_10_percent\n",
            "There are 10 directories and 0 images in 10_food_classes_10_percent/train\n",
            "There are 0 directories and 75 images in 10_food_classes_10_percent/train/steak\n",
            "There are 0 directories and 75 images in 10_food_classes_10_percent/train/chicken_wings\n",
            "There are 0 directories and 75 images in 10_food_classes_10_percent/train/grilled_salmon\n",
            "There are 0 directories and 75 images in 10_food_classes_10_percent/train/chicken_curry\n",
            "There are 0 directories and 75 images in 10_food_classes_10_percent/train/pizza\n",
            "There are 0 directories and 75 images in 10_food_classes_10_percent/train/fried_rice\n",
            "There are 0 directories and 75 images in 10_food_classes_10_percent/train/ice_cream\n",
            "There are 0 directories and 75 images in 10_food_classes_10_percent/train/sushi\n",
            "There are 0 directories and 75 images in 10_food_classes_10_percent/train/hamburger\n",
            "There are 0 directories and 75 images in 10_food_classes_10_percent/train/ramen\n",
            "There are 10 directories and 0 images in 10_food_classes_10_percent/test\n",
            "There are 0 directories and 250 images in 10_food_classes_10_percent/test/steak\n",
            "There are 0 directories and 250 images in 10_food_classes_10_percent/test/chicken_wings\n",
            "There are 0 directories and 250 images in 10_food_classes_10_percent/test/grilled_salmon\n",
            "There are 0 directories and 250 images in 10_food_classes_10_percent/test/chicken_curry\n",
            "There are 0 directories and 250 images in 10_food_classes_10_percent/test/pizza\n",
            "There are 0 directories and 250 images in 10_food_classes_10_percent/test/fried_rice\n",
            "There are 0 directories and 250 images in 10_food_classes_10_percent/test/ice_cream\n",
            "There are 0 directories and 250 images in 10_food_classes_10_percent/test/sushi\n",
            "There are 0 directories and 250 images in 10_food_classes_10_percent/test/hamburger\n",
            "There are 0 directories and 250 images in 10_food_classes_10_percent/test/ramen\n"
          ]
        }
      ]
    },
    {
      "cell_type": "markdown",
      "source": [
        "## Preparing the Data:"
      ],
      "metadata": {
        "id": "GN1PfRSPNALe"
      }
    },
    {
      "cell_type": "code",
      "source": [
        "# setting up the directories...\n",
        "train_dir = \"10_food_classes_10_percent/train/\"\n",
        "test_dir = \"10_food_classes_10_percent/test/\"\n",
        "\n",
        "# setting up the batch and image shape\n",
        "IMAGE_SHAPE = (224,224)\n",
        "BATCH_SIZE = 32\n",
        "\n",
        "# setting up the train and test data gen\n",
        "train_datagen = ImageDataGenerator(rescale=1/255.)\n",
        "test_datagen = ImageDataGenerator(rescale=1/255.)\n",
        "\n",
        "print(f\"Training Images :\")\n",
        "train_data = train_datagen.flow_from_directory(train_dir,\n",
        "                                               batch_size=BATCH_SIZE,\n",
        "                                               target_size=IMAGE_SHAPE,\n",
        "                                               class_mode=\"categorical\")\n",
        "\n",
        "print(f\"\\nTesting Images....\")\n",
        "test_data = test_datagen.flow_from_directory(test_dir,batch_size=BATCH_SIZE,\n",
        "                                             target_size=IMAGE_SHAPE,\n",
        "                                             class_mode='categorical')"
      ],
      "metadata": {
        "colab": {
          "base_uri": "https://localhost:8080/"
        },
        "id": "AWRFMDXaM3fv",
        "outputId": "01bb192b-331c-45f5-cb59-f1d976986cc5"
      },
      "execution_count": null,
      "outputs": [
        {
          "output_type": "stream",
          "name": "stdout",
          "text": [
            "Training Images :\n",
            "Found 750 images belonging to 10 classes.\n",
            "\n",
            "Testing Images....\n",
            "Found 2500 images belonging to 10 classes.\n"
          ]
        }
      ]
    },
    {
      "cell_type": "code",
      "source": [
        "  # setting up the tensorboard callback\n",
        "  # it log the performance of different models and then view and compare these models in visual way....\n",
        "  def create_tensorboard_callback(dirname,experiment_name):\n",
        "    log_dir = dirname + \"/\"+ experiment_name + \"/\" + datetime.datetime.now().strftime(\"%Y%m%d-%H%M%S\")\n",
        "    tensorboard_callback = TensorBoard(log_dir = log_dir)\n",
        "    print(f\"Saving TensorBoard Files to : {log_dir}\" )\n",
        "    return tensorboard_callback"
      ],
      "metadata": {
        "id": "r2GxKTEtOho-"
      },
      "execution_count": null,
      "outputs": []
    },
    {
      "cell_type": "markdown",
      "source": [
        "## Creating Model using TensorFlow Hub:\n",
        "\n",
        "Previously, we were making models from scratch by defining each layer by layer. But now we'll import from TensorFlow_Hub.\n",
        "\n",
        "In fact, we're going to use two models which are as follows:\n",
        "\n",
        "**ResNetV2:** a state of art model from 2016\n",
        "\n",
        "**EfficientNet:** a state of art model from 2019\n",
        "\n",
        "State of art means at some point these models has achieved low error rate defined by ImageNet."
      ],
      "metadata": {
        "id": "kVXGACXmQsuo"
      }
    },
    {
      "cell_type": "code",
      "source": [
        "# EfficientNet URL\n",
        "efficientnet_url1 = \"https://tfhub.dev/tensorflow/efficientnet/b0/feature-vector/1\"\n",
        "\n",
        "# Resnet Feature vector\n",
        "resnet_url = \"https://tfhub.dev/google/imagenet/resnet_v2_50/feature_vector/4\""
      ],
      "metadata": {
        "id": "jjY5ZHbNQpPS"
      },
      "execution_count": null,
      "outputs": []
    },
    {
      "cell_type": "code",
      "source": [
        "# we'll create a function that takes url, initialize the model and return the model\n",
        "def create_model(model_url,num_classes=10):\n",
        "\n",
        "  # download the model and save it as keraslayer\n",
        "  feature_extractor_layer = hub.KerasLayer(model_url,trainable=False,\n",
        "                                           name= \"feature_extraction_layer\",\n",
        "                                           input_shape = (224,224,3))\n",
        "  \n",
        "  # create our own model\n",
        "  model = Sequential()\n",
        "  # adding layers...\n",
        "  model.add(feature_extractor_layer)\n",
        "  model.add(Dense(num_classes,activation=\"softmax\",name=\"output_layer\"))\n",
        "\n",
        "  # return the model\n",
        "  return model"
      ],
      "metadata": {
        "id": "rrQSU7kGDk8M"
      },
      "execution_count": null,
      "outputs": []
    },
    {
      "cell_type": "code",
      "source": [
        "# create a model\n",
        "resnet_model = create_model(resnet_url,train_data.num_classes)\n"
      ],
      "metadata": {
        "id": "84_PNwBhEw6_"
      },
      "execution_count": null,
      "outputs": []
    },
    {
      "cell_type": "code",
      "source": [
        "# compile the model\n",
        "resnet_model.compile(loss='categorical_crossentropy',\n",
        "                     optimizer=tf.keras.optimizers.Adam(),\n",
        "                     metrics=[\"accuracy\"])\n",
        "\n",
        "# fit the model\n",
        "\n",
        "resnet_history = resnet_model.fit(train_data,\n",
        "                                  epochs=5,\n",
        "                                  steps_per_epoch = len(train_data),\n",
        "                                  validation_data = test_data,\n",
        "                                  validation_steps = len(test_data),\n",
        "                              callbacks = [create_tensorboard_callback(\"tensorflow_hub\",'resnet50v2')])"
      ],
      "metadata": {
        "colab": {
          "base_uri": "https://localhost:8080/"
        },
        "id": "ftoKOrrWFAYu",
        "outputId": "8359b50e-35c2-4094-dd43-9b528feea8f7"
      },
      "execution_count": null,
      "outputs": [
        {
          "output_type": "stream",
          "name": "stdout",
          "text": [
            "Saving TensorBoard Files to : tensorflow_hub/resnet50v2/20220804-204126\n",
            "Epoch 1/5\n",
            "24/24 [==============================] - 21s 755ms/step - loss: 1.9356 - accuracy: 0.3400 - val_loss: 1.2515 - val_accuracy: 0.6080\n",
            "Epoch 2/5\n",
            "24/24 [==============================] - 16s 706ms/step - loss: 0.8953 - accuracy: 0.7333 - val_loss: 0.8843 - val_accuracy: 0.7248\n",
            "Epoch 3/5\n",
            "24/24 [==============================] - 17s 723ms/step - loss: 0.6076 - accuracy: 0.8307 - val_loss: 0.7893 - val_accuracy: 0.7488\n",
            "Epoch 4/5\n",
            "24/24 [==============================] - 16s 686ms/step - loss: 0.4767 - accuracy: 0.8827 - val_loss: 0.7273 - val_accuracy: 0.7672\n",
            "Epoch 5/5\n",
            "24/24 [==============================] - 16s 687ms/step - loss: 0.3761 - accuracy: 0.9187 - val_loss: 0.6833 - val_accuracy: 0.7768\n"
          ]
        }
      ]
    },
    {
      "cell_type": "code",
      "source": [
        "# let's make a function that will visualize the performance of the model...\n",
        "\n",
        "def plot_loss_curves(history):\n",
        "\n",
        "  # getting the values of loss and accuracy\n",
        "  loss = history.history['loss']\n",
        "  val_loss = history.history['val_loss']\n",
        "\n",
        "  accuracy = history.history['accuracy']\n",
        "  val_acc = history.history['val_accuracy']\n",
        "\n",
        "  # getting the number of epochs\n",
        "  epochs = range(len(loss))\n",
        "\n",
        "  # plotting the loss\n",
        "  plt.plot(epochs,loss,label=\"Training Loss\")\n",
        "  plt.plot(epochs,val_loss,label=\"Val_Loss\")\n",
        "  plt.legend()\n",
        "  plt.title(\"Loss\")\n",
        "  plt.xlabel(\"Epochs\")\n",
        "\n",
        "  # plotting the accuracy\n",
        "  plt.figure()\n",
        "  plt.plot(epochs,accuracy,label=\"Training Accuracy\")\n",
        "  plt.plot(epochs,val_acc,label=\"Val_Accuracy\")\n",
        "  plt.legend()\n",
        "  plt.title(\"Accuracy\")\n",
        "  plt.xlabel(\"Epochs\");\n",
        "\n"
      ],
      "metadata": {
        "id": "-AWgUb5jFCEr"
      },
      "execution_count": null,
      "outputs": []
    },
    {
      "cell_type": "code",
      "source": [
        "plot_loss_curves(resnet_history)"
      ],
      "metadata": {
        "colab": {
          "base_uri": "https://localhost:8080/",
          "height": 573
        },
        "id": "5tlc5cBflfai",
        "outputId": "a115bbd6-dd86-4ef9-d29e-18170c9ad71b"
      },
      "execution_count": null,
      "outputs": [
        {
          "output_type": "display_data",
          "data": {
            "text/plain": [
              "<Figure size 432x288 with 1 Axes>"
            ],
            "image/png": "[encoded data removed]"
          },
          "metadata": {
            "needs_background": "light"
          }
        },
        {
          "output_type": "display_data",
          "data": {
            "text/plain": [
              "<Figure size 432x288 with 1 Axes>"
            ],
            "image/png": "[encoded data removed]"
          },
          "metadata": {
            "needs_background": "light"
          }
        }
      ]
    },
    {
      "cell_type": "code",
      "source": [
        "# let's check the model summary\n",
        "resnet_model.summary()"
      ],
      "metadata": {
        "colab": {
          "base_uri": "https://localhost:8080/"
        },
        "id": "4JRwzBzGljMy",
        "outputId": "fd0d71fb-ebb1-45e2-8f25-082a7c13c49d"
      },
      "execution_count": null,
      "outputs": [
        {
          "output_type": "stream",
          "name": "stdout",
          "text": [
            "Model: \"sequential_2\"\n",
            "_________________________________________________________________\n",
            " Layer (type)                Output Shape              Param #   \n",
            "=================================================================\n",
            " feature_extraction_layer (K  (None, 2048)             23564800  \n",
            " erasLayer)                                                      \n",
            "                                                                 \n",
            " output_layer (Dense)        (None, 10)                20490     \n",
            "                                                                 \n",
            "=================================================================\n",
            "Total params: 23,585,290\n",
            "Trainable params: 20,490\n",
            "Non-trainable params: 23,564,800\n",
            "_________________________________________________________________\n"
          ]
        }
      ]
    },
    {
      "cell_type": "code",
      "source": [
        "# we've trained resnet model and it's time to train the efficient model\n",
        "# let's build it...\n",
        "\n",
        "efficient_model = create_model(model_url=efficientnet_url1,num_classes=train_data.num_classes)\n",
        "\n",
        "# compile the model\n",
        "efficient_model.compile(loss=\"categorical_crossentropy\",\n",
        "                        optimizer=tf.keras.optimizers.Adam(),\n",
        "                        metrics=[\"accuracy\"])\n",
        "\n",
        "# fittin the model\n",
        "efficient_history = efficient_model.fit(train_data,epochs=5,\n",
        "                                        steps_per_epoch = len(train_data),\n",
        "                                        validation_data = test_data,\n",
        "                                        validation_steps = len(test_data),\n",
        "                                        callbacks = [create_tensorboard_callback(dirname=\"tensorflow_hub\",experiment_name=\"efficientnetB0\")])"
      ],
      "metadata": {
        "colab": {
          "base_uri": "https://localhost:8080/"
        },
        "id": "7O9JzQP1ms2D",
        "outputId": "00f5d6dc-86f7-48e4-947b-462ce5108c69"
      },
      "execution_count": null,
      "outputs": [
        {
          "output_type": "stream",
          "name": "stdout",
          "text": [
            "Saving TensorBoard Files to : tensorflow_hub/efficientnetB0/20220804-210056\n",
            "Epoch 1/5\n",
            "24/24 [==============================] - 27s 759ms/step - loss: 1.7696 - accuracy: 0.4893 - val_loss: 1.2587 - val_accuracy: 0.7464\n",
            "Epoch 2/5\n",
            "24/24 [==============================] - 15s 656ms/step - loss: 1.0376 - accuracy: 0.7827 - val_loss: 0.8492 - val_accuracy: 0.8188\n",
            "Epoch 3/5\n",
            "24/24 [==============================] - 16s 690ms/step - loss: 0.7454 - accuracy: 0.8253 - val_loss: 0.6898 - val_accuracy: 0.8416\n",
            "Epoch 4/5\n",
            "24/24 [==============================] - 15s 654ms/step - loss: 0.6043 - accuracy: 0.8640 - val_loss: 0.6061 - val_accuracy: 0.8544\n",
            "Epoch 5/5\n",
            "24/24 [==============================] - 16s 680ms/step - loss: 0.5094 - accuracy: 0.8867 - val_loss: 0.5543 - val_accuracy: 0.8640\n"
          ]
        }
      ]
    },
    {
      "cell_type": "code",
      "source": [
        "# let's plot the model performance\n",
        "plot_loss_curves(efficient_history)"
      ],
      "metadata": {
        "colab": {
          "base_uri": "https://localhost:8080/",
          "height": 573
        },
        "id": "482TWPT_prDt",
        "outputId": "279e9709-074c-47aa-a01e-c6d21f553ff8"
      },
      "execution_count": null,
      "outputs": [
        {
          "output_type": "display_data",
          "data": {
            "text/plain": [
              "<Figure size 432x288 with 1 Axes>"
            ],
            "image/png": "[encoded data removed]"
          },
          "metadata": {
            "needs_background": "light"
          }
        },
        {
          "output_type": "display_data",
          "data": {
            "text/plain": [
              "<Figure size 432x288 with 1 Axes>"
            ],
            "image/png": "[encoded data removed]"
          },
          "metadata": {
            "needs_background": "light"
          }
        }
      ]
    },
    {
      "cell_type": "code",
      "source": [
        "# for a look at loss and accuracy curves, if we train our model for a bit more long time then it might improve it's performance\n",
        "# let's check the model summary\n",
        "efficient_model.summary()"
      ],
      "metadata": {
        "colab": {
          "base_uri": "https://localhost:8080/"
        },
        "id": "WKRzaxoGrAkw",
        "outputId": "cdb8b492-54fa-4fa7-de0b-b7c2286da962"
      },
      "execution_count": null,
      "outputs": [
        {
          "output_type": "stream",
          "name": "stdout",
          "text": [
            "Model: \"sequential_3\"\n",
            "_________________________________________________________________\n",
            " Layer (type)                Output Shape              Param #   \n",
            "=================================================================\n",
            " feature_extraction_layer (K  (None, 1280)             4049564   \n",
            " erasLayer)                                                      \n",
            "                                                                 \n",
            " output_layer (Dense)        (None, 10)                12810     \n",
            "                                                                 \n",
            "=================================================================\n",
            "Total params: 4,062,374\n",
            "Trainable params: 12,810\n",
            "Non-trainable params: 4,049,564\n",
            "_________________________________________________________________\n"
          ]
        }
      ]
    },
    {
      "cell_type": "markdown",
      "source": [
        "## Comparing Model using TensorBoard\n",
        "\n",
        "Although we've compare the performance of two models by looking at the accuracy and loss of models. But let's compare these two more effieciently by using the TensorFlow TensorBoard feature.\n",
        "\n",
        "TensorBoard keeps the track of model experiments and enable us to share it with the others by shaing the link."
      ],
      "metadata": {
        "id": "NzJOWMdXsFtx"
      }
    },
    {
      "cell_type": "code",
      "source": [
        "# upload experiment to the tensorboard\n",
        "# Upload an experiment:\n",
        "!tensorboard dev upload --logdir ./tensorflow_hub/ \\\n",
        "    --name \"EfficientnetB0 vs Resnet50V2\" \\\n",
        "    --description \"Comparing two model's performance using 10% data\"\\\n",
        "    --one_shot"
      ],
      "metadata": {
        "colab": {
          "base_uri": "https://localhost:8080/"
        },
        "id": "t4mCOOLprn9t",
        "outputId": "1b8217d0-46eb-4414-c598-70aacea7e61a"
      },
      "execution_count": null,
      "outputs": [
        {
          "output_type": "stream",
          "name": "stdout",
          "text": [
            "\n",
            "New experiment created. View your TensorBoard at: https://tensorboard.dev/experiment/ytYTDHvRS5CWYyJVMwAJew/\n",
            "\n",
            "\u001b[1m[2022-08-04T21:25:08]\u001b[0m Started scanning logdir.\n",
            "\u001b[1m[2022-08-04T21:25:12]\u001b[0m Total uploaded: 96 scalars, 0 tensors, 4 binary objects (9.2 MB)\n",
            "\u001b[1m[2022-08-04T21:25:12]\u001b[0m Done scanning logdir.\n",
            "\n",
            "\n",
            "Done. View your TensorBoard at https://tensorboard.dev/experiment/ytYTDHvRS5CWYyJVMwAJew/\n"
          ]
        }
      ]
    },
    {
      "cell_type": "code",
      "source": [
        "# as all the upload to the tensorbord are public. let's delete the last \n",
        "!tensorboard dev delete --experiment_id ytYTDHvRS5CWYyJVMwAJew"
      ],
      "metadata": {
        "colab": {
          "base_uri": "https://localhost:8080/"
        },
        "id": "JMNVLa-1urUL",
        "outputId": "375d49e1-7984-45f0-a64a-34dac9e52d8f"
      },
      "execution_count": null,
      "outputs": [
        {
          "output_type": "stream",
          "name": "stdout",
          "text": [
            "Deleted experiment ytYTDHvRS5CWYyJVMwAJew.\n"
          ]
        }
      ]
    },
    {
      "cell_type": "code",
      "source": [
        "# checking the list of experiments\n",
        "!tensorboard dev list"
      ],
      "metadata": {
        "colab": {
          "base_uri": "https://localhost:8080/"
        },
        "id": "XoZ6wUPHx5gY",
        "outputId": "a2b45545-8839-458e-f6ba-590f2471b526"
      },
      "execution_count": null,
      "outputs": [
        {
          "output_type": "stream",
          "name": "stdout",
          "text": [
            "No experiments. Use `tensorboard dev upload` to get started.\n"
          ]
        }
      ]
    },
    {
      "cell_type": "markdown",
      "source": [
        "## Fine Tunning\n",
        "\n",
        "In fine tunning transfer learning the pre-trained model weights from another model are unfrozen and tweaked during training.\n",
        "\n",
        "In feature extraction section we just trained the top 3 layers while in fine tunning, we might train more than 3 layers to get better results. Let's dive in!\n",
        "\n",
        "We're going to cover the following things:\n",
        "\n",
        "\n",
        "*   Model 0 : Transfer learning using keras Functional API\n",
        "\n",
        "*   Model 1 : feature extraction using 1% of data with augmentation\n",
        "\n",
        "*   Model 2 : feature extraction using 10% of data with augmentation\n",
        "\n",
        "*   Model 3 : fine tuned transfer learning on 10% data\n",
        "\n",
        "*   Model 4 : fine tuned transfer learning on 100% data\n",
        "\n",
        "\n",
        "*   List item\n",
        "\n",
        "\n",
        "*   List item\n",
        "\n",
        "\n",
        "*   List item\n",
        "\n"
      ],
      "metadata": {
        "id": "9pDric-mzHzn"
      }
    },
    {
      "cell_type": "code",
      "source": [
        "for dirpath,dirnames,filenames in os.walk(\"10_food_classes_10_percent\"):\n",
        "  print(f\"There are {len(dirnames)} directories and {len(filenames)} images in {dirpath}\")"
      ],
      "metadata": {
        "id": "kHnre0rh5zRi"
      },
      "execution_count": null,
      "outputs": []
    },
    {
      "cell_type": "code",
      "source": [
        "# let's again walk through the directory\n",
        "for dirpath,dirnames,filenames in os.walk(\"/content/10_food_classes_10_percent\"):\n",
        "  print(f\"There are {len(dirnames)} directories and {len(filenames)} images in {dirpath}\")"
      ],
      "metadata": {
        "colab": {
          "base_uri": "https://localhost:8080/"
        },
        "id": "-okxAeuUyYVF",
        "outputId": "d03edb0d-6daf-43c8-b023-cac21983d546"
      },
      "execution_count": null,
      "outputs": [
        {
          "output_type": "stream",
          "name": "stdout",
          "text": [
            "There are 2 directories and 0 images in /content/10_food_classes_10_percent\n",
            "There are 10 directories and 0 images in /content/10_food_classes_10_percent/train\n",
            "There are 0 directories and 75 images in /content/10_food_classes_10_percent/train/steak\n",
            "There are 0 directories and 75 images in /content/10_food_classes_10_percent/train/chicken_wings\n",
            "There are 0 directories and 75 images in /content/10_food_classes_10_percent/train/grilled_salmon\n",
            "There are 0 directories and 75 images in /content/10_food_classes_10_percent/train/chicken_curry\n",
            "There are 0 directories and 75 images in /content/10_food_classes_10_percent/train/pizza\n",
            "There are 0 directories and 75 images in /content/10_food_classes_10_percent/train/fried_rice\n",
            "There are 0 directories and 75 images in /content/10_food_classes_10_percent/train/ice_cream\n",
            "There are 0 directories and 75 images in /content/10_food_classes_10_percent/train/sushi\n",
            "There are 0 directories and 75 images in /content/10_food_classes_10_percent/train/hamburger\n",
            "There are 0 directories and 75 images in /content/10_food_classes_10_percent/train/ramen\n",
            "There are 10 directories and 0 images in /content/10_food_classes_10_percent/test\n",
            "There are 0 directories and 250 images in /content/10_food_classes_10_percent/test/steak\n",
            "There are 0 directories and 250 images in /content/10_food_classes_10_percent/test/chicken_wings\n",
            "There are 0 directories and 250 images in /content/10_food_classes_10_percent/test/grilled_salmon\n",
            "There are 0 directories and 250 images in /content/10_food_classes_10_percent/test/chicken_curry\n",
            "There are 0 directories and 250 images in /content/10_food_classes_10_percent/test/pizza\n",
            "There are 0 directories and 250 images in /content/10_food_classes_10_percent/test/fried_rice\n",
            "There are 0 directories and 250 images in /content/10_food_classes_10_percent/test/ice_cream\n",
            "There are 0 directories and 250 images in /content/10_food_classes_10_percent/test/sushi\n",
            "There are 0 directories and 250 images in /content/10_food_classes_10_percent/test/hamburger\n",
            "There are 0 directories and 250 images in /content/10_food_classes_10_percent/test/ramen\n"
          ]
        }
      ]
    },
    {
      "cell_type": "markdown",
      "source": [
        "## Model 0 :  Build a model using transfer learning Functional API\n",
        "\n",
        "We're going to build our model by using tf.keras.applications module as it contains series of pre-trained models."
      ],
      "metadata": {
        "id": "HehwvjAJCIjw"
      }
    },
    {
      "cell_type": "code",
      "source": [
        "# let's build the model using functional keras API\n",
        "\n",
        "# create base model\n",
        "base_model = tf.keras.applications.EfficientNetB0(include_top=False) # set the include_top = False because we're going to create our own output layers\n",
        "\n",
        "# freeze the pre-trained patterns...\n",
        "base_model.trainable = False\n",
        "\n",
        "# create inputs to the base model\n",
        "inputs = tf.keras.layers.Input(shape=(224,224,3),name=\"input_layer\")\n",
        "\n",
        "# pass the inputs to the model\n",
        "X = base_model(inputs)\n",
        "\n",
        "# pool the output layers basically aggregate all the important imformation\n",
        "X = tf.keras.layers.GlobalAveragePooling2D(name=\"global_average_pooling\")(X)\n",
        "\n",
        "# create the output layer\n",
        "outputs = tf.keras.layers.Dense(10,activation='softmax',name='output_layer')(X)\n",
        "\n",
        "# combine the inputs and outputs\n",
        "model_0 = tf.keras.Model(inputs,outputs)\n",
        "\n",
        "# compile the model\n",
        "model_0.compile(loss=\"categorical_crossentropy\",\n",
        "                optimizer=tf.keras.optimizers.Adam(),\n",
        "                metrics=['accuracy'])\n",
        "\n",
        "# fitting the model\n",
        "history_0 = model_0.fit(train_data,epochs=5,\n",
        "                        steps_per_epoch=len(train_data),\n",
        "                        validation_data = test_data,\n",
        "                        validation_steps = int(0.25 * len(test_data)),\n",
        "                        callbacks = [create_tensorboard_callback('transfer_learning','10_percent_data')])"
      ],
      "metadata": {
        "colab": {
          "base_uri": "https://localhost:8080/"
        },
        "id": "r6RJMcTX6gjb",
        "outputId": "e4f0958a-8ff6-4a88-f267-18997be3a37f"
      },
      "execution_count": null,
      "outputs": [
        {
          "output_type": "stream",
          "name": "stdout",
          "text": [
            "Saving TensorBoard Files to : transfer_learning/10_percent_data/20220804-232212\n",
            "Epoch 1/5\n",
            "24/24 [==============================] - 14s 340ms/step - loss: 2.3243 - accuracy: 0.0760 - val_loss: 2.3055 - val_accuracy: 0.1036\n",
            "Epoch 2/5\n",
            "24/24 [==============================] - 9s 379ms/step - loss: 2.3197 - accuracy: 0.0960 - val_loss: 2.3042 - val_accuracy: 0.1003\n",
            "Epoch 3/5\n",
            "24/24 [==============================] - 9s 374ms/step - loss: 2.3113 - accuracy: 0.1120 - val_loss: 2.3047 - val_accuracy: 0.0938\n",
            "Epoch 4/5\n",
            "24/24 [==============================] - 9s 376ms/step - loss: 2.3107 - accuracy: 0.1013 - val_loss: 2.3042 - val_accuracy: 0.1053\n",
            "Epoch 5/5\n",
            "24/24 [==============================] - 9s 373ms/step - loss: 2.3112 - accuracy: 0.0987 - val_loss: 2.3021 - val_accuracy: 0.0872\n"
          ]
        }
      ]
    },
    {
      "cell_type": "markdown",
      "source": [
        "so far our model has achieved 98% accuracy on training and 87% accuracy on test data. This is the power of transfer learning."
      ],
      "metadata": {
        "id": "n4O5IKP9IG5X"
      }
    },
    {
      "cell_type": "code",
      "source": [
        "# let's check out the layers...\n",
        "for layer_number,layer in enumerate(base_model.layers):\n",
        "  print(layer_number , layer)"
      ],
      "metadata": {
        "colab": {
          "base_uri": "https://localhost:8080/"
        },
        "id": "SZsMHfbuHL6d",
        "outputId": "34a7272b-4031-4d77-cd8b-8c9e8488f353"
      },
      "execution_count": null,
      "outputs": [
        {
          "output_type": "stream",
          "name": "stdout",
          "text": [
            "0 <keras.engine.input_layer.InputLayer object at 0x7fd6b2cd5290>\n",
            "1 <keras.layers.preprocessing.image_preprocessing.Rescaling object at 0x7fd6b4b18190>\n",
            "2 <keras.layers.preprocessing.normalization.Normalization object at 0x7fd6b2dd23d0>\n",
            "3 <keras.layers.convolutional.ZeroPadding2D object at 0x7fd6b60d6250>\n",
            "4 <keras.layers.convolutional.Conv2D object at 0x7fd6b4f6b610>\n",
            "5 <keras.layers.normalization.batch_normalization.BatchNormalization object at 0x7fd6b4a8a910>\n",
            "6 <keras.layers.core.activation.Activation object at 0x7fd6b603e550>\n",
            "7 <keras.layers.convolutional.DepthwiseConv2D object at 0x7fd6b2cf2cd0>\n",
            "8 <keras.layers.normalization.batch_normalization.BatchNormalization object at 0x7fd6b4aa6c50>\n",
            "9 <keras.layers.core.activation.Activation object at 0x7fd6b2cefe10>\n",
            "10 <keras.layers.pooling.GlobalAveragePooling2D object at 0x7fd6b2c7a4d0>\n",
            "11 <keras.layers.core.reshape.Reshape object at 0x7fd6b4aa0b10>\n",
            "12 <keras.layers.convolutional.Conv2D object at 0x7fd6b2c84990>\n",
            "13 <keras.layers.convolutional.Conv2D object at 0x7fd6b2d25350>\n",
            "14 <keras.layers.merge.Multiply object at 0x7fd6b2c84f50>\n",
            "15 <keras.layers.convolutional.Conv2D object at 0x7fd6b4af7650>\n",
            "16 <keras.layers.normalization.batch_normalization.BatchNormalization object at 0x7fd6b2c97390>\n",
            "17 <keras.layers.convolutional.Conv2D object at 0x7fd6b2cb0750>\n",
            "18 <keras.layers.normalization.batch_normalization.BatchNormalization object at 0x7fd6b2c3ce90>\n",
            "19 <keras.layers.core.activation.Activation object at 0x7fd6b2caca90>\n",
            "20 <keras.layers.convolutional.ZeroPadding2D object at 0x7fd6b2c4ee90>\n",
            "21 <keras.layers.convolutional.DepthwiseConv2D object at 0x7fd6b2cc2c50>\n",
            "22 <keras.layers.normalization.batch_normalization.BatchNormalization object at 0x7fd6b2c4e0d0>\n",
            "23 <keras.layers.core.activation.Activation object at 0x7fd6b2c4e050>\n",
            "24 <keras.layers.pooling.GlobalAveragePooling2D object at 0x7fd6b2c5d850>\n",
            "25 <keras.layers.core.reshape.Reshape object at 0x7fd6b2c41d10>\n",
            "26 <keras.layers.convolutional.Conv2D object at 0x7fd6b2c5dc10>\n",
            "27 <keras.layers.convolutional.Conv2D object at 0x7fd6b2cb0450>\n",
            "28 <keras.layers.merge.Multiply object at 0x7fd6b2c772d0>\n",
            "29 <keras.layers.convolutional.Conv2D object at 0x7fd6b2c57c10>\n",
            "30 <keras.layers.normalization.batch_normalization.BatchNormalization object at 0x7fd6b2c65850>\n",
            "31 <keras.layers.convolutional.Conv2D object at 0x7fd6b2c0cf50>\n",
            "32 <keras.layers.normalization.batch_normalization.BatchNormalization object at 0x7fd6b2c0c490>\n",
            "33 <keras.layers.core.activation.Activation object at 0x7fd6b2c100d0>\n",
            "34 <keras.layers.convolutional.DepthwiseConv2D object at 0x7fd6b2c1bf10>\n",
            "35 <keras.layers.normalization.batch_normalization.BatchNormalization object at 0x7fd6b2c1ba50>\n",
            "36 <keras.layers.core.activation.Activation object at 0x7fd6b2c1b6d0>\n",
            "37 <keras.layers.pooling.GlobalAveragePooling2D object at 0x7fd6b2c35f90>\n",
            "38 <keras.layers.core.reshape.Reshape object at 0x7fd6b2c5d6d0>\n",
            "39 <keras.layers.convolutional.Conv2D object at 0x7fd6b2e0e790>\n",
            "40 <keras.layers.convolutional.Conv2D object at 0x7fd6b2c0ce90>\n",
            "41 <keras.layers.merge.Multiply object at 0x7fd6b2c41810>\n",
            "42 <keras.layers.convolutional.Conv2D object at 0x7fd6b2c0c7d0>\n",
            "43 <keras.layers.normalization.batch_normalization.BatchNormalization object at 0x7fd6b2c24ad0>\n",
            "44 <keras.layers.core.dropout.Dropout object at 0x7fd6b2c97490>\n",
            "45 <keras.layers.merge.Add object at 0x7fd6b2c92dd0>\n",
            "46 <keras.layers.convolutional.Conv2D object at 0x7fd6b2c807d0>\n",
            "47 <keras.layers.normalization.batch_normalization.BatchNormalization object at 0x7fd6b2c0c8d0>\n",
            "48 <keras.layers.core.activation.Activation object at 0x7fd6b2ccd3d0>\n",
            "49 <keras.layers.convolutional.ZeroPadding2D object at 0x7fd6b2bc5090>\n",
            "50 <keras.layers.convolutional.DepthwiseConv2D object at 0x7fd6b2bc09d0>\n",
            "51 <keras.layers.normalization.batch_normalization.BatchNormalization object at 0x7fd6b2bc5f90>\n",
            "52 <keras.layers.core.activation.Activation object at 0x7fd6b2bc56d0>\n",
            "53 <keras.layers.pooling.GlobalAveragePooling2D object at 0x7fd6b2bd7090>\n",
            "54 <keras.layers.core.reshape.Reshape object at 0x7fd6b2bdbe50>\n",
            "55 <keras.layers.convolutional.Conv2D object at 0x7fd6b2c15410>\n",
            "56 <keras.layers.convolutional.Conv2D object at 0x7fd6b2cef210>\n",
            "57 <keras.layers.merge.Multiply object at 0x7fd6b2b7eb50>\n",
            "58 <keras.layers.convolutional.Conv2D object at 0x7fd6b2c35210>\n",
            "59 <keras.layers.normalization.batch_normalization.BatchNormalization object at 0x7fd6b2bf4890>\n",
            "60 <keras.layers.convolutional.Conv2D object at 0x7fd6b2b89e50>\n",
            "61 <keras.layers.normalization.batch_normalization.BatchNormalization object at 0x7fd6b2b855d0>\n",
            "62 <keras.layers.core.activation.Activation object at 0x7fd6b2b9e310>\n",
            "63 <keras.layers.convolutional.DepthwiseConv2D object at 0x7fd6b2b9ac50>\n",
            "64 <keras.layers.normalization.batch_normalization.BatchNormalization object at 0x7fd6b2baf250>\n",
            "65 <keras.layers.core.activation.Activation object at 0x7fd6b2b95ed0>\n",
            "66 <keras.layers.pooling.GlobalAveragePooling2D object at 0x7fd6b2baf510>\n",
            "67 <keras.layers.core.reshape.Reshape object at 0x7fd6b2b95910>\n",
            "68 <keras.layers.convolutional.Conv2D object at 0x7fd6b2bdba10>\n",
            "69 <keras.layers.convolutional.Conv2D object at 0x7fd6b2b95c10>\n",
            "70 <keras.layers.merge.Multiply object at 0x7fd6b2b4dd10>\n",
            "71 <keras.layers.convolutional.Conv2D object at 0x7fd6b2ba9f10>\n",
            "72 <keras.layers.normalization.batch_normalization.BatchNormalization object at 0x7fd6b2b4df10>\n",
            "73 <keras.layers.core.dropout.Dropout object at 0x7fd6b2b67850>\n",
            "74 <keras.layers.merge.Add object at 0x7fd6b2cf28d0>\n",
            "75 <keras.layers.convolutional.Conv2D object at 0x7fd6b2b77b10>\n",
            "76 <keras.layers.normalization.batch_normalization.BatchNormalization object at 0x7fd6b2b5b490>\n",
            "77 <keras.layers.core.activation.Activation object at 0x7fd6b2b6d710>\n",
            "78 <keras.layers.convolutional.ZeroPadding2D object at 0x7fd6b2b071d0>\n",
            "79 <keras.layers.convolutional.DepthwiseConv2D object at 0x7fd6b2b6d590>\n",
            "80 <keras.layers.normalization.batch_normalization.BatchNormalization object at 0x7fd6b2afa050>\n",
            "81 <keras.layers.core.activation.Activation object at 0x7fd6b2b70e50>\n",
            "82 <keras.layers.pooling.GlobalAveragePooling2D object at 0x7fd6b2b677d0>\n",
            "83 <keras.layers.core.reshape.Reshape object at 0x7fd6b2b39610>\n",
            "84 <keras.layers.convolutional.Conv2D object at 0x7fd6b2ba4990>\n",
            "85 <keras.layers.convolutional.Conv2D object at 0x7fd6b2b5ba10>\n",
            "86 <keras.layers.merge.Multiply object at 0x7fd6b2b9ab50>\n",
            "87 <keras.layers.convolutional.Conv2D object at 0x7fd6b2bee590>\n",
            "88 <keras.layers.normalization.batch_normalization.BatchNormalization object at 0x7fd6b2afe5d0>\n",
            "89 <keras.layers.convolutional.Conv2D object at 0x7fd6b2c24110>\n",
            "90 <keras.layers.normalization.batch_normalization.BatchNormalization object at 0x7fd6b2b0b150>\n",
            "91 <keras.layers.core.activation.Activation object at 0x7fd6b2c80950>\n",
            "92 <keras.layers.convolutional.DepthwiseConv2D object at 0x7fd6b2b78250>\n",
            "93 <keras.layers.normalization.batch_normalization.BatchNormalization object at 0x7fd6b2b19410>\n",
            "94 <keras.layers.core.activation.Activation object at 0x7fd6b2b19490>\n",
            "95 <keras.layers.pooling.GlobalAveragePooling2D object at 0x7fd6b2b28250>\n",
            "96 <keras.layers.core.reshape.Reshape object at 0x7fd6b2bbe890>\n",
            "97 <keras.layers.convolutional.Conv2D object at 0x7fd6b2b24e10>\n",
            "98 <keras.layers.convolutional.Conv2D object at 0x7fd6b2c2f950>\n",
            "99 <keras.layers.merge.Multiply object at 0x7fd6b2abe050>\n",
            "100 <keras.layers.convolutional.Conv2D object at 0x7fd6b2b367d0>\n",
            "101 <keras.layers.normalization.batch_normalization.BatchNormalization object at 0x7fd6b2acb410>\n",
            "102 <keras.layers.core.dropout.Dropout object at 0x7fd6b2ad1150>\n",
            "103 <keras.layers.merge.Add object at 0x7fd6b2ad1650>\n",
            "104 <keras.layers.convolutional.Conv2D object at 0x7fd6b2ac0d50>\n",
            "105 <keras.layers.normalization.batch_normalization.BatchNormalization object at 0x7fd6b2b2ee50>\n",
            "106 <keras.layers.core.activation.Activation object at 0x7fd6b2ae1990>\n",
            "107 <keras.layers.convolutional.DepthwiseConv2D object at 0x7fd6b2ad7190>\n",
            "108 <keras.layers.normalization.batch_normalization.BatchNormalization object at 0x7fd6b2adc290>\n",
            "109 <keras.layers.core.activation.Activation object at 0x7fd6b2adc310>\n",
            "110 <keras.layers.pooling.GlobalAveragePooling2D object at 0x7fd6b2af3b10>\n",
            "111 <keras.layers.core.reshape.Reshape object at 0x7fd6b2af3610>\n",
            "112 <keras.layers.convolutional.Conv2D object at 0x7fd6b2a78190>\n",
            "113 <keras.layers.convolutional.Conv2D object at 0x7fd6b2b1c050>\n",
            "114 <keras.layers.merge.Multiply object at 0x7fd6b2a8ec90>\n",
            "115 <keras.layers.convolutional.Conv2D object at 0x7fd6b2a94dd0>\n",
            "116 <keras.layers.normalization.batch_normalization.BatchNormalization object at 0x7fd6b2aeb750>\n",
            "117 <keras.layers.core.dropout.Dropout object at 0x7fd6b2aa5150>\n",
            "118 <keras.layers.merge.Add object at 0x7fd6b2a9d490>\n",
            "119 <keras.layers.convolutional.Conv2D object at 0x7fd6b2aaadd0>\n",
            "120 <keras.layers.normalization.batch_normalization.BatchNormalization object at 0x7fd6b2a94ed0>\n",
            "121 <keras.layers.core.activation.Activation object at 0x7fd6b2a3afd0>\n",
            "122 <keras.layers.convolutional.DepthwiseConv2D object at 0x7fd6b2ab1450>\n",
            "123 <keras.layers.normalization.batch_normalization.BatchNormalization object at 0x7fd6b2aaacd0>\n",
            "124 <keras.layers.core.activation.Activation object at 0x7fd6b2aa2990>\n",
            "125 <keras.layers.pooling.GlobalAveragePooling2D object at 0x7fd6b2ae1b90>\n",
            "126 <keras.layers.core.reshape.Reshape object at 0x7fd6b2ab11d0>\n",
            "127 <keras.layers.convolutional.Conv2D object at 0x7fd6b2b9a3d0>\n",
            "128 <keras.layers.convolutional.Conv2D object at 0x7fd6b2a9de50>\n",
            "129 <keras.layers.merge.Multiply object at 0x7fd6b2a44bd0>\n",
            "130 <keras.layers.convolutional.Conv2D object at 0x7fd6b2a44310>\n",
            "131 <keras.layers.normalization.batch_normalization.BatchNormalization object at 0x7fd6b2a44fd0>\n",
            "132 <keras.layers.convolutional.Conv2D object at 0x7fd6b2a57e50>\n",
            "133 <keras.layers.normalization.batch_normalization.BatchNormalization object at 0x7fd6b2a4d350>\n",
            "134 <keras.layers.core.activation.Activation object at 0x7fd6b2a6d0d0>\n",
            "135 <keras.layers.convolutional.DepthwiseConv2D object at 0x7fd6b2a68d50>\n",
            "136 <keras.layers.normalization.batch_normalization.BatchNormalization object at 0x7fd6b29fdfd0>\n",
            "137 <keras.layers.core.activation.Activation object at 0x7fd6b2a624d0>\n",
            "138 <keras.layers.pooling.GlobalAveragePooling2D object at 0x7fd6b2a02310>\n",
            "139 <keras.layers.core.reshape.Reshape object at 0x7fd6b2a62650>\n",
            "140 <keras.layers.convolutional.Conv2D object at 0x7fd6b2b211d0>\n",
            "141 <keras.layers.convolutional.Conv2D object at 0x7fd6b2a62990>\n",
            "142 <keras.layers.merge.Multiply object at 0x7fd6b2a25dd0>\n",
            "143 <keras.layers.convolutional.Conv2D object at 0x7fd6b2a06e10>\n",
            "144 <keras.layers.normalization.batch_normalization.BatchNormalization object at 0x7fd6b2a17f50>\n",
            "145 <keras.layers.core.dropout.Dropout object at 0x7fd6b2a2d710>\n",
            "146 <keras.layers.merge.Add object at 0x7fd6b2aa21d0>\n",
            "147 <keras.layers.convolutional.Conv2D object at 0x7fd6b29bdad0>\n",
            "148 <keras.layers.normalization.batch_normalization.BatchNormalization object at 0x7fd6b2a29290>\n",
            "149 <keras.layers.core.activation.Activation object at 0x7fd6b29c4d90>\n",
            "150 <keras.layers.convolutional.DepthwiseConv2D object at 0x7fd6b29d3e90>\n",
            "151 <keras.layers.normalization.batch_normalization.BatchNormalization object at 0x7fd6b2a76d90>\n",
            "152 <keras.layers.core.activation.Activation object at 0x7fd6b29d3850>\n",
            "153 <keras.layers.pooling.GlobalAveragePooling2D object at 0x7fd6b29e8610>\n",
            "154 <keras.layers.core.reshape.Reshape object at 0x7fd6b2a76d50>\n",
            "155 <keras.layers.convolutional.Conv2D object at 0x7fd6b29e8c90>\n",
            "156 <keras.layers.convolutional.Conv2D object at 0x7fd6b2a29810>\n",
            "157 <keras.layers.merge.Multiply object at 0x7fd6b297b050>\n",
            "158 <keras.layers.convolutional.Conv2D object at 0x7fd6b29f7050>\n",
            "159 <keras.layers.normalization.batch_normalization.BatchNormalization object at 0x7fd6b29c86d0>\n",
            "160 <keras.layers.core.dropout.Dropout object at 0x7fd6b2981190>\n",
            "161 <keras.layers.merge.Add object at 0x7fd6b298f5d0>\n",
            "162 <keras.layers.convolutional.Conv2D object at 0x7fd6b2987690>\n",
            "163 <keras.layers.normalization.batch_normalization.BatchNormalization object at 0x7fd6b29e3650>\n",
            "164 <keras.layers.core.activation.Activation object at 0x7fd6b2a02890>\n",
            "165 <keras.layers.convolutional.ZeroPadding2D object at 0x7fd6b2a2d990>\n",
            "166 <keras.layers.convolutional.DepthwiseConv2D object at 0x7fd6b2a06350>\n",
            "167 <keras.layers.normalization.batch_normalization.BatchNormalization object at 0x7fd6b2aa2110>\n",
            "168 <keras.layers.core.activation.Activation object at 0x7fd6b2b0ba90>\n",
            "169 <keras.layers.pooling.GlobalAveragePooling2D object at 0x7fd6b2a78d50>\n",
            "170 <keras.layers.core.reshape.Reshape object at 0x7fd6b2b0ba50>\n",
            "171 <keras.layers.convolutional.Conv2D object at 0x7fd6b297be10>\n",
            "172 <keras.layers.convolutional.Conv2D object at 0x7fd6b2987510>\n",
            "173 <keras.layers.merge.Multiply object at 0x7fd6b29a3a10>\n",
            "174 <keras.layers.convolutional.Conv2D object at 0x7fd6b29ae910>\n",
            "175 <keras.layers.normalization.batch_normalization.BatchNormalization object at 0x7fd6b29a36d0>\n",
            "176 <keras.layers.convolutional.Conv2D object at 0x7fd6b29b3f90>\n",
            "177 <keras.layers.normalization.batch_normalization.BatchNormalization object at 0x7fd6b2953e90>\n",
            "178 <keras.layers.core.activation.Activation object at 0x7fd6b2953090>\n",
            "179 <keras.layers.convolutional.DepthwiseConv2D object at 0x7fd6b2953850>\n",
            "180 <keras.layers.normalization.batch_normalization.BatchNormalization object at 0x7fd6b2994c10>\n",
            "181 <keras.layers.core.activation.Activation object at 0x7fd6b294efd0>\n",
            "182 <keras.layers.pooling.GlobalAveragePooling2D object at 0x7fd6b2964e90>\n",
            "183 <keras.layers.core.reshape.Reshape object at 0x7fd6b295e510>\n",
            "184 <keras.layers.convolutional.Conv2D object at 0x7fd6b2994a10>\n",
            "185 <keras.layers.convolutional.Conv2D object at 0x7fd6b2947550>\n",
            "186 <keras.layers.merge.Multiply object at 0x7fd6b28fb210>\n",
            "187 <keras.layers.convolutional.Conv2D object at 0x7fd6b28fb1d0>\n",
            "188 <keras.layers.normalization.batch_normalization.BatchNormalization object at 0x7fd6b28fb690>\n",
            "189 <keras.layers.core.dropout.Dropout object at 0x7fd6b2917f90>\n",
            "190 <keras.layers.merge.Add object at 0x7fd6b298ff10>\n",
            "191 <keras.layers.convolutional.Conv2D object at 0x7fd6b2925910>\n",
            "192 <keras.layers.normalization.batch_normalization.BatchNormalization object at 0x7fd6b290de10>\n",
            "193 <keras.layers.core.activation.Activation object at 0x7fd6b291a950>\n",
            "194 <keras.layers.convolutional.DepthwiseConv2D object at 0x7fd6b2937b50>\n",
            "195 <keras.layers.normalization.batch_normalization.BatchNormalization object at 0x7fd6b295e410>\n",
            "196 <keras.layers.core.activation.Activation object at 0x7fd6b2937950>\n",
            "197 <keras.layers.pooling.GlobalAveragePooling2D object at 0x7fd6b28d1ad0>\n",
            "198 <keras.layers.core.reshape.Reshape object at 0x7fd6b291add0>\n",
            "199 <keras.layers.convolutional.Conv2D object at 0x7fd6b28d11d0>\n",
            "200 <keras.layers.convolutional.Conv2D object at 0x7fd6b29113d0>\n",
            "201 <keras.layers.merge.Multiply object at 0x7fd6b28e6850>\n",
            "202 <keras.layers.convolutional.Conv2D object at 0x7fd6b28dbe90>\n",
            "203 <keras.layers.normalization.batch_normalization.BatchNormalization object at 0x7fd6b292c650>\n",
            "204 <keras.layers.core.dropout.Dropout object at 0x7fd6b2975b50>\n",
            "205 <keras.layers.merge.Add object at 0x7fd6b290ded0>\n",
            "206 <keras.layers.convolutional.Conv2D object at 0x7fd6b296be10>\n",
            "207 <keras.layers.normalization.batch_normalization.BatchNormalization object at 0x7fd6b2936850>\n",
            "208 <keras.layers.core.activation.Activation object at 0x7fd6b2a57510>\n",
            "209 <keras.layers.convolutional.DepthwiseConv2D object at 0x7fd6b29de550>\n",
            "210 <keras.layers.normalization.batch_normalization.BatchNormalization object at 0x7fd6b29d8bd0>\n",
            "211 <keras.layers.core.activation.Activation object at 0x7fd6b293c0d0>\n",
            "212 <keras.layers.pooling.GlobalAveragePooling2D object at 0x7fd6b28eded0>\n",
            "213 <keras.layers.core.reshape.Reshape object at 0x7fd6b28f37d0>\n",
            "214 <keras.layers.convolutional.Conv2D object at 0x7fd6b28f5250>\n",
            "215 <keras.layers.convolutional.Conv2D object at 0x7fd6b296bd90>\n",
            "216 <keras.layers.merge.Multiply object at 0x7fd6b2887490>\n",
            "217 <keras.layers.convolutional.Conv2D object at 0x7fd6b288d5d0>\n",
            "218 <keras.layers.normalization.batch_normalization.BatchNormalization object at 0x7fd6b28f3310>\n",
            "219 <keras.layers.core.dropout.Dropout object at 0x7fd6b289a890>\n",
            "220 <keras.layers.merge.Add object at 0x7fd6b296b5d0>\n",
            "221 <keras.layers.convolutional.Conv2D object at 0x7fd6b2895810>\n",
            "222 <keras.layers.normalization.batch_normalization.BatchNormalization object at 0x7fd6b28860d0>\n",
            "223 <keras.layers.core.activation.Activation object at 0x7fd6b28b2210>\n",
            "224 <keras.layers.convolutional.DepthwiseConv2D object at 0x7fd6b28abad0>\n",
            "225 <keras.layers.normalization.batch_normalization.BatchNormalization object at 0x7fd6b28f38d0>\n",
            "226 <keras.layers.core.activation.Activation object at 0x7fd6b299bd50>\n",
            "227 <keras.layers.pooling.GlobalAveragePooling2D object at 0x7fd6b2849190>\n",
            "228 <keras.layers.core.reshape.Reshape object at 0x7fd6b28a7e10>\n",
            "229 <keras.layers.convolutional.Conv2D object at 0x7fd6b28f3990>\n",
            "230 <keras.layers.convolutional.Conv2D object at 0x7fd6b2886d10>\n",
            "231 <keras.layers.merge.Multiply object at 0x7fd6b286a210>\n",
            "232 <keras.layers.convolutional.Conv2D object at 0x7fd6b28805d0>\n",
            "233 <keras.layers.normalization.batch_normalization.BatchNormalization object at 0x7fd6b285ee10>\n",
            "234 <keras.layers.convolutional.Conv2D object at 0x7fd6b2d29d90>\n",
            "235 <keras.layers.normalization.batch_normalization.BatchNormalization object at 0x7fd6b286e6d0>\n",
            "236 <keras.layers.core.activation.Activation object at 0x7fd6b27fa150>\n"
          ]
        }
      ]
    },
    {
      "cell_type": "code",
      "source": [
        "# checkout the model summary\n",
        "base_model.summary()"
      ],
      "metadata": {
        "colab": {
          "base_uri": "https://localhost:8080/"
        },
        "id": "PhqNma97IkdD",
        "outputId": "e0b5bda3-b4fa-48c1-ef92-84260669cd5a"
      },
      "execution_count": null,
      "outputs": [
        {
          "output_type": "stream",
          "name": "stdout",
          "text": [
            "Model: \"efficientnetb0\"\n",
            "__________________________________________________________________________________________________\n",
            " Layer (type)                   Output Shape         Param #     Connected to                     \n",
            "==================================================================================================\n",
            " input_3 (InputLayer)           [(None, None, None,  0           []                               \n",
            "                                 3)]                                                              \n",
            "                                                                                                  \n",
            " rescaling_2 (Rescaling)        (None, None, None,   0           ['input_3[0][0]']                \n",
            "                                3)                                                                \n",
            "                                                                                                  \n",
            " normalization_2 (Normalization  (None, None, None,   7          ['rescaling_2[0][0]']            \n",
            " )                              3)                                                                \n",
            "                                                                                                  \n",
            " stem_conv_pad (ZeroPadding2D)  (None, None, None,   0           ['normalization_2[0][0]']        \n",
            "                                3)                                                                \n",
            "                                                                                                  \n",
            " stem_conv (Conv2D)             (None, None, None,   864         ['stem_conv_pad[0][0]']          \n",
            "                                32)                                                               \n",
            "                                                                                                  \n",
            " stem_bn (BatchNormalization)   (None, None, None,   128         ['stem_conv[0][0]']              \n",
            "                                32)                                                               \n",
            "                                                                                                  \n",
            " stem_activation (Activation)   (None, None, None,   0           ['stem_bn[0][0]']                \n",
            "                                32)                                                               \n",
            "                                                                                                  \n",
            " block1a_dwconv (DepthwiseConv2  (None, None, None,   288        ['stem_activation[0][0]']        \n",
            " D)                             32)                                                               \n",
            "                                                                                                  \n",
            " block1a_bn (BatchNormalization  (None, None, None,   128        ['block1a_dwconv[0][0]']         \n",
            " )                              32)                                                               \n",
            "                                                                                                  \n",
            " block1a_activation (Activation  (None, None, None,   0          ['block1a_bn[0][0]']             \n",
            " )                              32)                                                               \n",
            "                                                                                                  \n",
            " block1a_se_squeeze (GlobalAver  (None, 32)          0           ['block1a_activation[0][0]']     \n",
            " agePooling2D)                                                                                    \n",
            "                                                                                                  \n",
            " block1a_se_reshape (Reshape)   (None, 1, 1, 32)     0           ['block1a_se_squeeze[0][0]']     \n",
            "                                                                                                  \n",
            " block1a_se_reduce (Conv2D)     (None, 1, 1, 8)      264         ['block1a_se_reshape[0][0]']     \n",
            "                                                                                                  \n",
            " block1a_se_expand (Conv2D)     (None, 1, 1, 32)     288         ['block1a_se_reduce[0][0]']      \n",
            "                                                                                                  \n",
            " block1a_se_excite (Multiply)   (None, None, None,   0           ['block1a_activation[0][0]',     \n",
            "                                32)                               'block1a_se_expand[0][0]']      \n",
            "                                                                                                  \n",
            " block1a_project_conv (Conv2D)  (None, None, None,   512         ['block1a_se_excite[0][0]']      \n",
            "                                16)                                                               \n",
            "                                                                                                  \n",
            " block1a_project_bn (BatchNorma  (None, None, None,   64         ['block1a_project_conv[0][0]']   \n",
            " lization)                      16)                                                               \n",
            "                                                                                                  \n",
            " block2a_expand_conv (Conv2D)   (None, None, None,   1536        ['block1a_project_bn[0][0]']     \n",
            "                                96)                                                               \n",
            "                                                                                                  \n",
            " block2a_expand_bn (BatchNormal  (None, None, None,   384        ['block2a_expand_conv[0][0]']    \n",
            " ization)                       96)                                                               \n",
            "                                                                                                  \n",
            " block2a_expand_activation (Act  (None, None, None,   0          ['block2a_expand_bn[0][0]']      \n",
            " ivation)                       96)                                                               \n",
            "                                                                                                  \n",
            " block2a_dwconv_pad (ZeroPaddin  (None, None, None,   0          ['block2a_expand_activation[0][0]\n",
            " g2D)                           96)                              ']                               \n",
            "                                                                                                  \n",
            " block2a_dwconv (DepthwiseConv2  (None, None, None,   864        ['block2a_dwconv_pad[0][0]']     \n",
            " D)                             96)                                                               \n",
            "                                                                                                  \n",
            " block2a_bn (BatchNormalization  (None, None, None,   384        ['block2a_dwconv[0][0]']         \n",
            " )                              96)                                                               \n",
            "                                                                                                  \n",
            " block2a_activation (Activation  (None, None, None,   0          ['block2a_bn[0][0]']             \n",
            " )                              96)                                                               \n",
            "                                                                                                  \n",
            " block2a_se_squeeze (GlobalAver  (None, 96)          0           ['block2a_activation[0][0]']     \n",
            " agePooling2D)                                                                                    \n",
            "                                                                                                  \n",
            " block2a_se_reshape (Reshape)   (None, 1, 1, 96)     0           ['block2a_se_squeeze[0][0]']     \n",
            "                                                                                                  \n",
            " block2a_se_reduce (Conv2D)     (None, 1, 1, 4)      388         ['block2a_se_reshape[0][0]']     \n",
            "                                                                                                  \n",
            " block2a_se_expand (Conv2D)     (None, 1, 1, 96)     480         ['block2a_se_reduce[0][0]']      \n",
            "                                                                                                  \n",
            " block2a_se_excite (Multiply)   (None, None, None,   0           ['block2a_activation[0][0]',     \n",
            "                                96)                               'block2a_se_expand[0][0]']      \n",
            "                                                                                                  \n",
            " block2a_project_conv (Conv2D)  (None, None, None,   2304        ['block2a_se_excite[0][0]']      \n",
            "                                24)                                                               \n",
            "                                                                                                  \n",
            " block2a_project_bn (BatchNorma  (None, None, None,   96         ['block2a_project_conv[0][0]']   \n",
            " lization)                      24)                                                               \n",
            "                                                                                                  \n",
            " block2b_expand_conv (Conv2D)   (None, None, None,   3456        ['block2a_project_bn[0][0]']     \n",
            "                                144)                                                              \n",
            "                                                                                                  \n",
            " block2b_expand_bn (BatchNormal  (None, None, None,   576        ['block2b_expand_conv[0][0]']    \n",
            " ization)                       144)                                                              \n",
            "                                                                                                  \n",
            " block2b_expand_activation (Act  (None, None, None,   0          ['block2b_expand_bn[0][0]']      \n",
            " ivation)                       144)                                                              \n",
            "                                                                                                  \n",
            " block2b_dwconv (DepthwiseConv2  (None, None, None,   1296       ['block2b_expand_activation[0][0]\n",
            " D)                             144)                             ']                               \n",
            "                                                                                                  \n",
            " block2b_bn (BatchNormalization  (None, None, None,   576        ['block2b_dwconv[0][0]']         \n",
            " )                              144)                                                              \n",
            "                                                                                                  \n",
            " block2b_activation (Activation  (None, None, None,   0          ['block2b_bn[0][0]']             \n",
            " )                              144)                                                              \n",
            "                                                                                                  \n",
            " block2b_se_squeeze (GlobalAver  (None, 144)         0           ['block2b_activation[0][0]']     \n",
            " agePooling2D)                                                                                    \n",
            "                                                                                                  \n",
            " block2b_se_reshape (Reshape)   (None, 1, 1, 144)    0           ['block2b_se_squeeze[0][0]']     \n",
            "                                                                                                  \n",
            " block2b_se_reduce (Conv2D)     (None, 1, 1, 6)      870         ['block2b_se_reshape[0][0]']     \n",
            "                                                                                                  \n",
            " block2b_se_expand (Conv2D)     (None, 1, 1, 144)    1008        ['block2b_se_reduce[0][0]']      \n",
            "                                                                                                  \n",
            " block2b_se_excite (Multiply)   (None, None, None,   0           ['block2b_activation[0][0]',     \n",
            "                                144)                              'block2b_se_expand[0][0]']      \n",
            "                                                                                                  \n",
            " block2b_project_conv (Conv2D)  (None, None, None,   3456        ['block2b_se_excite[0][0]']      \n",
            "                                24)                                                               \n",
            "                                                                                                  \n",
            " block2b_project_bn (BatchNorma  (None, None, None,   96         ['block2b_project_conv[0][0]']   \n",
            " lization)                      24)                                                               \n",
            "                                                                                                  \n",
            " block2b_drop (Dropout)         (None, None, None,   0           ['block2b_project_bn[0][0]']     \n",
            "                                24)                                                               \n",
            "                                                                                                  \n",
            " block2b_add (Add)              (None, None, None,   0           ['block2b_drop[0][0]',           \n",
            "                                24)                               'block2a_project_bn[0][0]']     \n",
            "                                                                                                  \n",
            " block3a_expand_conv (Conv2D)   (None, None, None,   3456        ['block2b_add[0][0]']            \n",
            "                                144)                                                              \n",
            "                                                                                                  \n",
            " block3a_expand_bn (BatchNormal  (None, None, None,   576        ['block3a_expand_conv[0][0]']    \n",
            " ization)                       144)                                                              \n",
            "                                                                                                  \n",
            " block3a_expand_activation (Act  (None, None, None,   0          ['block3a_expand_bn[0][0]']      \n",
            " ivation)                       144)                                                              \n",
            "                                                                                                  \n",
            " block3a_dwconv_pad (ZeroPaddin  (None, None, None,   0          ['block3a_expand_activation[0][0]\n",
            " g2D)                           144)                             ']                               \n",
            "                                                                                                  \n",
            " block3a_dwconv (DepthwiseConv2  (None, None, None,   3600       ['block3a_dwconv_pad[0][0]']     \n",
            " D)                             144)                                                              \n",
            "                                                                                                  \n",
            " block3a_bn (BatchNormalization  (None, None, None,   576        ['block3a_dwconv[0][0]']         \n",
            " )                              144)                                                              \n",
            "                                                                                                  \n",
            " block3a_activation (Activation  (None, None, None,   0          ['block3a_bn[0][0]']             \n",
            " )                              144)                                                              \n",
            "                                                                                                  \n",
            " block3a_se_squeeze (GlobalAver  (None, 144)         0           ['block3a_activation[0][0]']     \n",
            " agePooling2D)                                                                                    \n",
            "                                                                                                  \n",
            " block3a_se_reshape (Reshape)   (None, 1, 1, 144)    0           ['block3a_se_squeeze[0][0]']     \n",
            "                                                                                                  \n",
            " block3a_se_reduce (Conv2D)     (None, 1, 1, 6)      870         ['block3a_se_reshape[0][0]']     \n",
            "                                                                                                  \n",
            " block3a_se_expand (Conv2D)     (None, 1, 1, 144)    1008        ['block3a_se_reduce[0][0]']      \n",
            "                                                                                                  \n",
            " block3a_se_excite (Multiply)   (None, None, None,   0           ['block3a_activation[0][0]',     \n",
            "                                144)                              'block3a_se_expand[0][0]']      \n",
            "                                                                                                  \n",
            " block3a_project_conv (Conv2D)  (None, None, None,   5760        ['block3a_se_excite[0][0]']      \n",
            "                                40)                                                               \n",
            "                                                                                                  \n",
            " block3a_project_bn (BatchNorma  (None, None, None,   160        ['block3a_project_conv[0][0]']   \n",
            " lization)                      40)                                                               \n",
            "                                                                                                  \n",
            " block3b_expand_conv (Conv2D)   (None, None, None,   9600        ['block3a_project_bn[0][0]']     \n",
            "                                240)                                                              \n",
            "                                                                                                  \n",
            " block3b_expand_bn (BatchNormal  (None, None, None,   960        ['block3b_expand_conv[0][0]']    \n",
            " ization)                       240)                                                              \n",
            "                                                                                                  \n",
            " block3b_expand_activation (Act  (None, None, None,   0          ['block3b_expand_bn[0][0]']      \n",
            " ivation)                       240)                                                              \n",
            "                                                                                                  \n",
            " block3b_dwconv (DepthwiseConv2  (None, None, None,   6000       ['block3b_expand_activation[0][0]\n",
            " D)                             240)                             ']                               \n",
            "                                                                                                  \n",
            " block3b_bn (BatchNormalization  (None, None, None,   960        ['block3b_dwconv[0][0]']         \n",
            " )                              240)                                                              \n",
            "                                                                                                  \n",
            " block3b_activation (Activation  (None, None, None,   0          ['block3b_bn[0][0]']             \n",
            " )                              240)                                                              \n",
            "                                                                                                  \n",
            " block3b_se_squeeze (GlobalAver  (None, 240)         0           ['block3b_activation[0][0]']     \n",
            " agePooling2D)                                                                                    \n",
            "                                                                                                  \n",
            " block3b_se_reshape (Reshape)   (None, 1, 1, 240)    0           ['block3b_se_squeeze[0][0]']     \n",
            "                                                                                                  \n",
            " block3b_se_reduce (Conv2D)     (None, 1, 1, 10)     2410        ['block3b_se_reshape[0][0]']     \n",
            "                                                                                                  \n",
            " block3b_se_expand (Conv2D)     (None, 1, 1, 240)    2640        ['block3b_se_reduce[0][0]']      \n",
            "                                                                                                  \n",
            " block3b_se_excite (Multiply)   (None, None, None,   0           ['block3b_activation[0][0]',     \n",
            "                                240)                              'block3b_se_expand[0][0]']      \n",
            "                                                                                                  \n",
            " block3b_project_conv (Conv2D)  (None, None, None,   9600        ['block3b_se_excite[0][0]']      \n",
            "                                40)                                                               \n",
            "                                                                                                  \n",
            " block3b_project_bn (BatchNorma  (None, None, None,   160        ['block3b_project_conv[0][0]']   \n",
            " lization)                      40)                                                               \n",
            "                                                                                                  \n",
            " block3b_drop (Dropout)         (None, None, None,   0           ['block3b_project_bn[0][0]']     \n",
            "                                40)                                                               \n",
            "                                                                                                  \n",
            " block3b_add (Add)              (None, None, None,   0           ['block3b_drop[0][0]',           \n",
            "                                40)                               'block3a_project_bn[0][0]']     \n",
            "                                                                                                  \n",
            " block4a_expand_conv (Conv2D)   (None, None, None,   9600        ['block3b_add[0][0]']            \n",
            "                                240)                                                              \n",
            "                                                                                                  \n",
            " block4a_expand_bn (BatchNormal  (None, None, None,   960        ['block4a_expand_conv[0][0]']    \n",
            " ization)                       240)                                                              \n",
            "                                                                                                  \n",
            " block4a_expand_activation (Act  (None, None, None,   0          ['block4a_expand_bn[0][0]']      \n",
            " ivation)                       240)                                                              \n",
            "                                                                                                  \n",
            " block4a_dwconv_pad (ZeroPaddin  (None, None, None,   0          ['block4a_expand_activation[0][0]\n",
            " g2D)                           240)                             ']                               \n",
            "                                                                                                  \n",
            " block4a_dwconv (DepthwiseConv2  (None, None, None,   2160       ['block4a_dwconv_pad[0][0]']     \n",
            " D)                             240)                                                              \n",
            "                                                                                                  \n",
            " block4a_bn (BatchNormalization  (None, None, None,   960        ['block4a_dwconv[0][0]']         \n",
            " )                              240)                                                              \n",
            "                                                                                                  \n",
            " block4a_activation (Activation  (None, None, None,   0          ['block4a_bn[0][0]']             \n",
            " )                              240)                                                              \n",
            "                                                                                                  \n",
            " block4a_se_squeeze (GlobalAver  (None, 240)         0           ['block4a_activation[0][0]']     \n",
            " agePooling2D)                                                                                    \n",
            "                                                                                                  \n",
            " block4a_se_reshape (Reshape)   (None, 1, 1, 240)    0           ['block4a_se_squeeze[0][0]']     \n",
            "                                                                                                  \n",
            " block4a_se_reduce (Conv2D)     (None, 1, 1, 10)     2410        ['block4a_se_reshape[0][0]']     \n",
            "                                                                                                  \n",
            " block4a_se_expand (Conv2D)     (None, 1, 1, 240)    2640        ['block4a_se_reduce[0][0]']      \n",
            "                                                                                                  \n",
            " block4a_se_excite (Multiply)   (None, None, None,   0           ['block4a_activation[0][0]',     \n",
            "                                240)                              'block4a_se_expand[0][0]']      \n",
            "                                                                                                  \n",
            " block4a_project_conv (Conv2D)  (None, None, None,   19200       ['block4a_se_excite[0][0]']      \n",
            "                                80)                                                               \n",
            "                                                                                                  \n",
            " block4a_project_bn (BatchNorma  (None, None, None,   320        ['block4a_project_conv[0][0]']   \n",
            " lization)                      80)                                                               \n",
            "                                                                                                  \n",
            " block4b_expand_conv (Conv2D)   (None, None, None,   38400       ['block4a_project_bn[0][0]']     \n",
            "                                480)                                                              \n",
            "                                                                                                  \n",
            " block4b_expand_bn (BatchNormal  (None, None, None,   1920       ['block4b_expand_conv[0][0]']    \n",
            " ization)                       480)                                                              \n",
            "                                                                                                  \n",
            " block4b_expand_activation (Act  (None, None, None,   0          ['block4b_expand_bn[0][0]']      \n",
            " ivation)                       480)                                                              \n",
            "                                                                                                  \n",
            " block4b_dwconv (DepthwiseConv2  (None, None, None,   4320       ['block4b_expand_activation[0][0]\n",
            " D)                             480)                             ']                               \n",
            "                                                                                                  \n",
            " block4b_bn (BatchNormalization  (None, None, None,   1920       ['block4b_dwconv[0][0]']         \n",
            " )                              480)                                                              \n",
            "                                                                                                  \n",
            " block4b_activation (Activation  (None, None, None,   0          ['block4b_bn[0][0]']             \n",
            " )                              480)                                                              \n",
            "                                                                                                  \n",
            " block4b_se_squeeze (GlobalAver  (None, 480)         0           ['block4b_activation[0][0]']     \n",
            " agePooling2D)                                                                                    \n",
            "                                                                                                  \n",
            " block4b_se_reshape (Reshape)   (None, 1, 1, 480)    0           ['block4b_se_squeeze[0][0]']     \n",
            "                                                                                                  \n",
            " block4b_se_reduce (Conv2D)     (None, 1, 1, 20)     9620        ['block4b_se_reshape[0][0]']     \n",
            "                                                                                                  \n",
            " block4b_se_expand (Conv2D)     (None, 1, 1, 480)    10080       ['block4b_se_reduce[0][0]']      \n",
            "                                                                                                  \n",
            " block4b_se_excite (Multiply)   (None, None, None,   0           ['block4b_activation[0][0]',     \n",
            "                                480)                              'block4b_se_expand[0][0]']      \n",
            "                                                                                                  \n",
            " block4b_project_conv (Conv2D)  (None, None, None,   38400       ['block4b_se_excite[0][0]']      \n",
            "                                80)                                                               \n",
            "                                                                                                  \n",
            " block4b_project_bn (BatchNorma  (None, None, None,   320        ['block4b_project_conv[0][0]']   \n",
            " lization)                      80)                                                               \n",
            "                                                                                                  \n",
            " block4b_drop (Dropout)         (None, None, None,   0           ['block4b_project_bn[0][0]']     \n",
            "                                80)                                                               \n",
            "                                                                                                  \n",
            " block4b_add (Add)              (None, None, None,   0           ['block4b_drop[0][0]',           \n",
            "                                80)                               'block4a_project_bn[0][0]']     \n",
            "                                                                                                  \n",
            " block4c_expand_conv (Conv2D)   (None, None, None,   38400       ['block4b_add[0][0]']            \n",
            "                                480)                                                              \n",
            "                                                                                                  \n",
            " block4c_expand_bn (BatchNormal  (None, None, None,   1920       ['block4c_expand_conv[0][0]']    \n",
            " ization)                       480)                                                              \n",
            "                                                                                                  \n",
            " block4c_expand_activation (Act  (None, None, None,   0          ['block4c_expand_bn[0][0]']      \n",
            " ivation)                       480)                                                              \n",
            "                                                                                                  \n",
            " block4c_dwconv (DepthwiseConv2  (None, None, None,   4320       ['block4c_expand_activation[0][0]\n",
            " D)                             480)                             ']                               \n",
            "                                                                                                  \n",
            " block4c_bn (BatchNormalization  (None, None, None,   1920       ['block4c_dwconv[0][0]']         \n",
            " )                              480)                                                              \n",
            "                                                                                                  \n",
            " block4c_activation (Activation  (None, None, None,   0          ['block4c_bn[0][0]']             \n",
            " )                              480)                                                              \n",
            "                                                                                                  \n",
            " block4c_se_squeeze (GlobalAver  (None, 480)         0           ['block4c_activation[0][0]']     \n",
            " agePooling2D)                                                                                    \n",
            "                                                                                                  \n",
            " block4c_se_reshape (Reshape)   (None, 1, 1, 480)    0           ['block4c_se_squeeze[0][0]']     \n",
            "                                                                                                  \n",
            " block4c_se_reduce (Conv2D)     (None, 1, 1, 20)     9620        ['block4c_se_reshape[0][0]']     \n",
            "                                                                                                  \n",
            " block4c_se_expand (Conv2D)     (None, 1, 1, 480)    10080       ['block4c_se_reduce[0][0]']      \n",
            "                                                                                                  \n",
            " block4c_se_excite (Multiply)   (None, None, None,   0           ['block4c_activation[0][0]',     \n",
            "                                480)                              'block4c_se_expand[0][0]']      \n",
            "                                                                                                  \n",
            " block4c_project_conv (Conv2D)  (None, None, None,   38400       ['block4c_se_excite[0][0]']      \n",
            "                                80)                                                               \n",
            "                                                                                                  \n",
            " block4c_project_bn (BatchNorma  (None, None, None,   320        ['block4c_project_conv[0][0]']   \n",
            " lization)                      80)                                                               \n",
            "                                                                                                  \n",
            " block4c_drop (Dropout)         (None, None, None,   0           ['block4c_project_bn[0][0]']     \n",
            "                                80)                                                               \n",
            "                                                                                                  \n",
            " block4c_add (Add)              (None, None, None,   0           ['block4c_drop[0][0]',           \n",
            "                                80)                               'block4b_add[0][0]']            \n",
            "                                                                                                  \n",
            " block5a_expand_conv (Conv2D)   (None, None, None,   38400       ['block4c_add[0][0]']            \n",
            "                                480)                                                              \n",
            "                                                                                                  \n",
            " block5a_expand_bn (BatchNormal  (None, None, None,   1920       ['block5a_expand_conv[0][0]']    \n",
            " ization)                       480)                                                              \n",
            "                                                                                                  \n",
            " block5a_expand_activation (Act  (None, None, None,   0          ['block5a_expand_bn[0][0]']      \n",
            " ivation)                       480)                                                              \n",
            "                                                                                                  \n",
            " block5a_dwconv (DepthwiseConv2  (None, None, None,   12000      ['block5a_expand_activation[0][0]\n",
            " D)                             480)                             ']                               \n",
            "                                                                                                  \n",
            " block5a_bn (BatchNormalization  (None, None, None,   1920       ['block5a_dwconv[0][0]']         \n",
            " )                              480)                                                              \n",
            "                                                                                                  \n",
            " block5a_activation (Activation  (None, None, None,   0          ['block5a_bn[0][0]']             \n",
            " )                              480)                                                              \n",
            "                                                                                                  \n",
            " block5a_se_squeeze (GlobalAver  (None, 480)         0           ['block5a_activation[0][0]']     \n",
            " agePooling2D)                                                                                    \n",
            "                                                                                                  \n",
            " block5a_se_reshape (Reshape)   (None, 1, 1, 480)    0           ['block5a_se_squeeze[0][0]']     \n",
            "                                                                                                  \n",
            " block5a_se_reduce (Conv2D)     (None, 1, 1, 20)     9620        ['block5a_se_reshape[0][0]']     \n",
            "                                                                                                  \n",
            " block5a_se_expand (Conv2D)     (None, 1, 1, 480)    10080       ['block5a_se_reduce[0][0]']      \n",
            "                                                                                                  \n",
            " block5a_se_excite (Multiply)   (None, None, None,   0           ['block5a_activation[0][0]',     \n",
            "                                480)                              'block5a_se_expand[0][0]']      \n",
            "                                                                                                  \n",
            " block5a_project_conv (Conv2D)  (None, None, None,   53760       ['block5a_se_excite[0][0]']      \n",
            "                                112)                                                              \n",
            "                                                                                                  \n",
            " block5a_project_bn (BatchNorma  (None, None, None,   448        ['block5a_project_conv[0][0]']   \n",
            " lization)                      112)                                                              \n",
            "                                                                                                  \n",
            " block5b_expand_conv (Conv2D)   (None, None, None,   75264       ['block5a_project_bn[0][0]']     \n",
            "                                672)                                                              \n",
            "                                                                                                  \n",
            " block5b_expand_bn (BatchNormal  (None, None, None,   2688       ['block5b_expand_conv[0][0]']    \n",
            " ization)                       672)                                                              \n",
            "                                                                                                  \n",
            " block5b_expand_activation (Act  (None, None, None,   0          ['block5b_expand_bn[0][0]']      \n",
            " ivation)                       672)                                                              \n",
            "                                                                                                  \n",
            " block5b_dwconv (DepthwiseConv2  (None, None, None,   16800      ['block5b_expand_activation[0][0]\n",
            " D)                             672)                             ']                               \n",
            "                                                                                                  \n",
            " block5b_bn (BatchNormalization  (None, None, None,   2688       ['block5b_dwconv[0][0]']         \n",
            " )                              672)                                                              \n",
            "                                                                                                  \n",
            " block5b_activation (Activation  (None, None, None,   0          ['block5b_bn[0][0]']             \n",
            " )                              672)                                                              \n",
            "                                                                                                  \n",
            " block5b_se_squeeze (GlobalAver  (None, 672)         0           ['block5b_activation[0][0]']     \n",
            " agePooling2D)                                                                                    \n",
            "                                                                                                  \n",
            " block5b_se_reshape (Reshape)   (None, 1, 1, 672)    0           ['block5b_se_squeeze[0][0]']     \n",
            "                                                                                                  \n",
            " block5b_se_reduce (Conv2D)     (None, 1, 1, 28)     18844       ['block5b_se_reshape[0][0]']     \n",
            "                                                                                                  \n",
            " block5b_se_expand (Conv2D)     (None, 1, 1, 672)    19488       ['block5b_se_reduce[0][0]']      \n",
            "                                                                                                  \n",
            " block5b_se_excite (Multiply)   (None, None, None,   0           ['block5b_activation[0][0]',     \n",
            "                                672)                              'block5b_se_expand[0][0]']      \n",
            "                                                                                                  \n",
            " block5b_project_conv (Conv2D)  (None, None, None,   75264       ['block5b_se_excite[0][0]']      \n",
            "                                112)                                                              \n",
            "                                                                                                  \n",
            " block5b_project_bn (BatchNorma  (None, None, None,   448        ['block5b_project_conv[0][0]']   \n",
            " lization)                      112)                                                              \n",
            "                                                                                                  \n",
            " block5b_drop (Dropout)         (None, None, None,   0           ['block5b_project_bn[0][0]']     \n",
            "                                112)                                                              \n",
            "                                                                                                  \n",
            " block5b_add (Add)              (None, None, None,   0           ['block5b_drop[0][0]',           \n",
            "                                112)                              'block5a_project_bn[0][0]']     \n",
            "                                                                                                  \n",
            " block5c_expand_conv (Conv2D)   (None, None, None,   75264       ['block5b_add[0][0]']            \n",
            "                                672)                                                              \n",
            "                                                                                                  \n",
            " block5c_expand_bn (BatchNormal  (None, None, None,   2688       ['block5c_expand_conv[0][0]']    \n",
            " ization)                       672)                                                              \n",
            "                                                                                                  \n",
            " block5c_expand_activation (Act  (None, None, None,   0          ['block5c_expand_bn[0][0]']      \n",
            " ivation)                       672)                                                              \n",
            "                                                                                                  \n",
            " block5c_dwconv (DepthwiseConv2  (None, None, None,   16800      ['block5c_expand_activation[0][0]\n",
            " D)                             672)                             ']                               \n",
            "                                                                                                  \n",
            " block5c_bn (BatchNormalization  (None, None, None,   2688       ['block5c_dwconv[0][0]']         \n",
            " )                              672)                                                              \n",
            "                                                                                                  \n",
            " block5c_activation (Activation  (None, None, None,   0          ['block5c_bn[0][0]']             \n",
            " )                              672)                                                              \n",
            "                                                                                                  \n",
            " block5c_se_squeeze (GlobalAver  (None, 672)         0           ['block5c_activation[0][0]']     \n",
            " agePooling2D)                                                                                    \n",
            "                                                                                                  \n",
            " block5c_se_reshape (Reshape)   (None, 1, 1, 672)    0           ['block5c_se_squeeze[0][0]']     \n",
            "                                                                                                  \n",
            " block5c_se_reduce (Conv2D)     (None, 1, 1, 28)     18844       ['block5c_se_reshape[0][0]']     \n",
            "                                                                                                  \n",
            " block5c_se_expand (Conv2D)     (None, 1, 1, 672)    19488       ['block5c_se_reduce[0][0]']      \n",
            "                                                                                                  \n",
            " block5c_se_excite (Multiply)   (None, None, None,   0           ['block5c_activation[0][0]',     \n",
            "                                672)                              'block5c_se_expand[0][0]']      \n",
            "                                                                                                  \n",
            " block5c_project_conv (Conv2D)  (None, None, None,   75264       ['block5c_se_excite[0][0]']      \n",
            "                                112)                                                              \n",
            "                                                                                                  \n",
            " block5c_project_bn (BatchNorma  (None, None, None,   448        ['block5c_project_conv[0][0]']   \n",
            " lization)                      112)                                                              \n",
            "                                                                                                  \n",
            " block5c_drop (Dropout)         (None, None, None,   0           ['block5c_project_bn[0][0]']     \n",
            "                                112)                                                              \n",
            "                                                                                                  \n",
            " block5c_add (Add)              (None, None, None,   0           ['block5c_drop[0][0]',           \n",
            "                                112)                              'block5b_add[0][0]']            \n",
            "                                                                                                  \n",
            " block6a_expand_conv (Conv2D)   (None, None, None,   75264       ['block5c_add[0][0]']            \n",
            "                                672)                                                              \n",
            "                                                                                                  \n",
            " block6a_expand_bn (BatchNormal  (None, None, None,   2688       ['block6a_expand_conv[0][0]']    \n",
            " ization)                       672)                                                              \n",
            "                                                                                                  \n",
            " block6a_expand_activation (Act  (None, None, None,   0          ['block6a_expand_bn[0][0]']      \n",
            " ivation)                       672)                                                              \n",
            "                                                                                                  \n",
            " block6a_dwconv_pad (ZeroPaddin  (None, None, None,   0          ['block6a_expand_activation[0][0]\n",
            " g2D)                           672)                             ']                               \n",
            "                                                                                                  \n",
            " block6a_dwconv (DepthwiseConv2  (None, None, None,   16800      ['block6a_dwconv_pad[0][0]']     \n",
            " D)                             672)                                                              \n",
            "                                                                                                  \n",
            " block6a_bn (BatchNormalization  (None, None, None,   2688       ['block6a_dwconv[0][0]']         \n",
            " )                              672)                                                              \n",
            "                                                                                                  \n",
            " block6a_activation (Activation  (None, None, None,   0          ['block6a_bn[0][0]']             \n",
            " )                              672)                                                              \n",
            "                                                                                                  \n",
            " block6a_se_squeeze (GlobalAver  (None, 672)         0           ['block6a_activation[0][0]']     \n",
            " agePooling2D)                                                                                    \n",
            "                                                                                                  \n",
            " block6a_se_reshape (Reshape)   (None, 1, 1, 672)    0           ['block6a_se_squeeze[0][0]']     \n",
            "                                                                                                  \n",
            " block6a_se_reduce (Conv2D)     (None, 1, 1, 28)     18844       ['block6a_se_reshape[0][0]']     \n",
            "                                                                                                  \n",
            " block6a_se_expand (Conv2D)     (None, 1, 1, 672)    19488       ['block6a_se_reduce[0][0]']      \n",
            "                                                                                                  \n",
            " block6a_se_excite (Multiply)   (None, None, None,   0           ['block6a_activation[0][0]',     \n",
            "                                672)                              'block6a_se_expand[0][0]']      \n",
            "                                                                                                  \n",
            " block6a_project_conv (Conv2D)  (None, None, None,   129024      ['block6a_se_excite[0][0]']      \n",
            "                                192)                                                              \n",
            "                                                                                                  \n",
            " block6a_project_bn (BatchNorma  (None, None, None,   768        ['block6a_project_conv[0][0]']   \n",
            " lization)                      192)                                                              \n",
            "                                                                                                  \n",
            " block6b_expand_conv (Conv2D)   (None, None, None,   221184      ['block6a_project_bn[0][0]']     \n",
            "                                1152)                                                             \n",
            "                                                                                                  \n",
            " block6b_expand_bn (BatchNormal  (None, None, None,   4608       ['block6b_expand_conv[0][0]']    \n",
            " ization)                       1152)                                                             \n",
            "                                                                                                  \n",
            " block6b_expand_activation (Act  (None, None, None,   0          ['block6b_expand_bn[0][0]']      \n",
            " ivation)                       1152)                                                             \n",
            "                                                                                                  \n",
            " block6b_dwconv (DepthwiseConv2  (None, None, None,   28800      ['block6b_expand_activation[0][0]\n",
            " D)                             1152)                            ']                               \n",
            "                                                                                                  \n",
            " block6b_bn (BatchNormalization  (None, None, None,   4608       ['block6b_dwconv[0][0]']         \n",
            " )                              1152)                                                             \n",
            "                                                                                                  \n",
            " block6b_activation (Activation  (None, None, None,   0          ['block6b_bn[0][0]']             \n",
            " )                              1152)                                                             \n",
            "                                                                                                  \n",
            " block6b_se_squeeze (GlobalAver  (None, 1152)        0           ['block6b_activation[0][0]']     \n",
            " agePooling2D)                                                                                    \n",
            "                                                                                                  \n",
            " block6b_se_reshape (Reshape)   (None, 1, 1, 1152)   0           ['block6b_se_squeeze[0][0]']     \n",
            "                                                                                                  \n",
            " block6b_se_reduce (Conv2D)     (None, 1, 1, 48)     55344       ['block6b_se_reshape[0][0]']     \n",
            "                                                                                                  \n",
            " block6b_se_expand (Conv2D)     (None, 1, 1, 1152)   56448       ['block6b_se_reduce[0][0]']      \n",
            "                                                                                                  \n",
            " block6b_se_excite (Multiply)   (None, None, None,   0           ['block6b_activation[0][0]',     \n",
            "                                1152)                             'block6b_se_expand[0][0]']      \n",
            "                                                                                                  \n",
            " block6b_project_conv (Conv2D)  (None, None, None,   221184      ['block6b_se_excite[0][0]']      \n",
            "                                192)                                                              \n",
            "                                                                                                  \n",
            " block6b_project_bn (BatchNorma  (None, None, None,   768        ['block6b_project_conv[0][0]']   \n",
            " lization)                      192)                                                              \n",
            "                                                                                                  \n",
            " block6b_drop (Dropout)         (None, None, None,   0           ['block6b_project_bn[0][0]']     \n",
            "                                192)                                                              \n",
            "                                                                                                  \n",
            " block6b_add (Add)              (None, None, None,   0           ['block6b_drop[0][0]',           \n",
            "                                192)                              'block6a_project_bn[0][0]']     \n",
            "                                                                                                  \n",
            " block6c_expand_conv (Conv2D)   (None, None, None,   221184      ['block6b_add[0][0]']            \n",
            "                                1152)                                                             \n",
            "                                                                                                  \n",
            " block6c_expand_bn (BatchNormal  (None, None, None,   4608       ['block6c_expand_conv[0][0]']    \n",
            " ization)                       1152)                                                             \n",
            "                                                                                                  \n",
            " block6c_expand_activation (Act  (None, None, None,   0          ['block6c_expand_bn[0][0]']      \n",
            " ivation)                       1152)                                                             \n",
            "                                                                                                  \n",
            " block6c_dwconv (DepthwiseConv2  (None, None, None,   28800      ['block6c_expand_activation[0][0]\n",
            " D)                             1152)                            ']                               \n",
            "                                                                                                  \n",
            " block6c_bn (BatchNormalization  (None, None, None,   4608       ['block6c_dwconv[0][0]']         \n",
            " )                              1152)                                                             \n",
            "                                                                                                  \n",
            " block6c_activation (Activation  (None, None, None,   0          ['block6c_bn[0][0]']             \n",
            " )                              1152)                                                             \n",
            "                                                                                                  \n",
            " block6c_se_squeeze (GlobalAver  (None, 1152)        0           ['block6c_activation[0][0]']     \n",
            " agePooling2D)                                                                                    \n",
            "                                                                                                  \n",
            " block6c_se_reshape (Reshape)   (None, 1, 1, 1152)   0           ['block6c_se_squeeze[0][0]']     \n",
            "                                                                                                  \n",
            " block6c_se_reduce (Conv2D)     (None, 1, 1, 48)     55344       ['block6c_se_reshape[0][0]']     \n",
            "                                                                                                  \n",
            " block6c_se_expand (Conv2D)     (None, 1, 1, 1152)   56448       ['block6c_se_reduce[0][0]']      \n",
            "                                                                                                  \n",
            " block6c_se_excite (Multiply)   (None, None, None,   0           ['block6c_activation[0][0]',     \n",
            "                                1152)                             'block6c_se_expand[0][0]']      \n",
            "                                                                                                  \n",
            " block6c_project_conv (Conv2D)  (None, None, None,   221184      ['block6c_se_excite[0][0]']      \n",
            "                                192)                                                              \n",
            "                                                                                                  \n",
            " block6c_project_bn (BatchNorma  (None, None, None,   768        ['block6c_project_conv[0][0]']   \n",
            " lization)                      192)                                                              \n",
            "                                                                                                  \n",
            " block6c_drop (Dropout)         (None, None, None,   0           ['block6c_project_bn[0][0]']     \n",
            "                                192)                                                              \n",
            "                                                                                                  \n",
            " block6c_add (Add)              (None, None, None,   0           ['block6c_drop[0][0]',           \n",
            "                                192)                              'block6b_add[0][0]']            \n",
            "                                                                                                  \n",
            " block6d_expand_conv (Conv2D)   (None, None, None,   221184      ['block6c_add[0][0]']            \n",
            "                                1152)                                                             \n",
            "                                                                                                  \n",
            " block6d_expand_bn (BatchNormal  (None, None, None,   4608       ['block6d_expand_conv[0][0]']    \n",
            " ization)                       1152)                                                             \n",
            "                                                                                                  \n",
            " block6d_expand_activation (Act  (None, None, None,   0          ['block6d_expand_bn[0][0]']      \n",
            " ivation)                       1152)                                                             \n",
            "                                                                                                  \n",
            " block6d_dwconv (DepthwiseConv2  (None, None, None,   28800      ['block6d_expand_activation[0][0]\n",
            " D)                             1152)                            ']                               \n",
            "                                                                                                  \n",
            " block6d_bn (BatchNormalization  (None, None, None,   4608       ['block6d_dwconv[0][0]']         \n",
            " )                              1152)                                                             \n",
            "                                                                                                  \n",
            " block6d_activation (Activation  (None, None, None,   0          ['block6d_bn[0][0]']             \n",
            " )                              1152)                                                             \n",
            "                                                                                                  \n",
            " block6d_se_squeeze (GlobalAver  (None, 1152)        0           ['block6d_activation[0][0]']     \n",
            " agePooling2D)                                                                                    \n",
            "                                                                                                  \n",
            " block6d_se_reshape (Reshape)   (None, 1, 1, 1152)   0           ['block6d_se_squeeze[0][0]']     \n",
            "                                                                                                  \n",
            " block6d_se_reduce (Conv2D)     (None, 1, 1, 48)     55344       ['block6d_se_reshape[0][0]']     \n",
            "                                                                                                  \n",
            " block6d_se_expand (Conv2D)     (None, 1, 1, 1152)   56448       ['block6d_se_reduce[0][0]']      \n",
            "                                                                                                  \n",
            " block6d_se_excite (Multiply)   (None, None, None,   0           ['block6d_activation[0][0]',     \n",
            "                                1152)                             'block6d_se_expand[0][0]']      \n",
            "                                                                                                  \n",
            " block6d_project_conv (Conv2D)  (None, None, None,   221184      ['block6d_se_excite[0][0]']      \n",
            "                                192)                                                              \n",
            "                                                                                                  \n",
            " block6d_project_bn (BatchNorma  (None, None, None,   768        ['block6d_project_conv[0][0]']   \n",
            " lization)                      192)                                                              \n",
            "                                                                                                  \n",
            " block6d_drop (Dropout)         (None, None, None,   0           ['block6d_project_bn[0][0]']     \n",
            "                                192)                                                              \n",
            "                                                                                                  \n",
            " block6d_add (Add)              (None, None, None,   0           ['block6d_drop[0][0]',           \n",
            "                                192)                              'block6c_add[0][0]']            \n",
            "                                                                                                  \n",
            " block7a_expand_conv (Conv2D)   (None, None, None,   221184      ['block6d_add[0][0]']            \n",
            "                                1152)                                                             \n",
            "                                                                                                  \n",
            " block7a_expand_bn (BatchNormal  (None, None, None,   4608       ['block7a_expand_conv[0][0]']    \n",
            " ization)                       1152)                                                             \n",
            "                                                                                                  \n",
            " block7a_expand_activation (Act  (None, None, None,   0          ['block7a_expand_bn[0][0]']      \n",
            " ivation)                       1152)                                                             \n",
            "                                                                                                  \n",
            " block7a_dwconv (DepthwiseConv2  (None, None, None,   10368      ['block7a_expand_activation[0][0]\n",
            " D)                             1152)                            ']                               \n",
            "                                                                                                  \n",
            " block7a_bn (BatchNormalization  (None, None, None,   4608       ['block7a_dwconv[0][0]']         \n",
            " )                              1152)                                                             \n",
            "                                                                                                  \n",
            " block7a_activation (Activation  (None, None, None,   0          ['block7a_bn[0][0]']             \n",
            " )                              1152)                                                             \n",
            "                                                                                                  \n",
            " block7a_se_squeeze (GlobalAver  (None, 1152)        0           ['block7a_activation[0][0]']     \n",
            " agePooling2D)                                                                                    \n",
            "                                                                                                  \n",
            " block7a_se_reshape (Reshape)   (None, 1, 1, 1152)   0           ['block7a_se_squeeze[0][0]']     \n",
            "                                                                                                  \n",
            " block7a_se_reduce (Conv2D)     (None, 1, 1, 48)     55344       ['block7a_se_reshape[0][0]']     \n",
            "                                                                                                  \n",
            " block7a_se_expand (Conv2D)     (None, 1, 1, 1152)   56448       ['block7a_se_reduce[0][0]']      \n",
            "                                                                                                  \n",
            " block7a_se_excite (Multiply)   (None, None, None,   0           ['block7a_activation[0][0]',     \n",
            "                                1152)                             'block7a_se_expand[0][0]']      \n",
            "                                                                                                  \n",
            " block7a_project_conv (Conv2D)  (None, None, None,   368640      ['block7a_se_excite[0][0]']      \n",
            "                                320)                                                              \n",
            "                                                                                                  \n",
            " block7a_project_bn (BatchNorma  (None, None, None,   1280       ['block7a_project_conv[0][0]']   \n",
            " lization)                      320)                                                              \n",
            "                                                                                                  \n",
            " top_conv (Conv2D)              (None, None, None,   409600      ['block7a_project_bn[0][0]']     \n",
            "                                1280)                                                             \n",
            "                                                                                                  \n",
            " top_bn (BatchNormalization)    (None, None, None,   5120        ['top_conv[0][0]']               \n",
            "                                1280)                                                             \n",
            "                                                                                                  \n",
            " top_activation (Activation)    (None, None, None,   0           ['top_bn[0][0]']                 \n",
            "                                1280)                                                             \n",
            "                                                                                                  \n",
            "==================================================================================================\n",
            "Total params: 4,049,571\n",
            "Trainable params: 0\n",
            "Non-trainable params: 4,049,571\n",
            "__________________________________________________________________________________________________\n"
          ]
        }
      ]
    },
    {
      "cell_type": "code",
      "source": [
        "model_0.summary()"
      ],
      "metadata": {
        "colab": {
          "base_uri": "https://localhost:8080/"
        },
        "id": "ArouVs1VJIko",
        "outputId": "bca8ebca-57a7-45ca-9015-9a9b962b218b"
      },
      "execution_count": null,
      "outputs": [
        {
          "output_type": "stream",
          "name": "stdout",
          "text": [
            "Model: \"model_1\"\n",
            "_________________________________________________________________\n",
            " Layer (type)                Output Shape              Param #   \n",
            "=================================================================\n",
            " input_layer (InputLayer)    [(None, 224, 224, 3)]     0         \n",
            "                                                                 \n",
            " efficientnetb0 (Functional)  (None, None, None, 1280)  4049571  \n",
            "                                                                 \n",
            " global_average_pooling (Glo  (None, 1280)             0         \n",
            " balAveragePooling2D)                                            \n",
            "                                                                 \n",
            " output_layer (Dense)        (None, 10)                12810     \n",
            "                                                                 \n",
            "=================================================================\n",
            "Total params: 4,062,381\n",
            "Trainable params: 12,810\n",
            "Non-trainable params: 4,049,571\n",
            "_________________________________________________________________\n"
          ]
        }
      ]
    },
    {
      "cell_type": "code",
      "source": [
        "# visualize the model performance\n",
        "plot_loss_curves(history_0)"
      ],
      "metadata": {
        "colab": {
          "base_uri": "https://localhost:8080/",
          "height": 573
        },
        "id": "srDGQKnsJTZ9",
        "outputId": "79471a43-39be-4d73-f78f-e0071dc73cdc"
      },
      "execution_count": null,
      "outputs": [
        {
          "output_type": "display_data",
          "data": {
            "text/plain": [
              "<Figure size 432x288 with 1 Axes>"
            ],
            "image/png": "[encoded data removed]"
          },
          "metadata": {
            "needs_background": "light"
          }
        },
        {
          "output_type": "display_data",
          "data": {
            "text/plain": [
              "<Figure size 432x288 with 1 Axes>"
            ],
            "image/png": "[encoded data removed]"
          },
          "metadata": {
            "needs_background": "light"
          }
        }
      ]
    },
    {
      "cell_type": "code",
      "source": [
        "# download the 1% zip data\n",
        "!wget https://storage.googleapis.com/ztm_tf_course/food_vision/10_food_classes_1_percent.zip"
      ],
      "metadata": {
        "colab": {
          "base_uri": "https://localhost:8080/"
        },
        "id": "bhBU9fFuKHG8",
        "outputId": "dcab8593-e45e-437e-a0f0-6c880b154fd8"
      },
      "execution_count": null,
      "outputs": [
        {
          "output_type": "stream",
          "name": "stdout",
          "text": [
            "--2022-08-04 23:27:26--  https://storage.googleapis.com/ztm_tf_course/food_vision/10_food_classes_1_percent.zip\n",
            "Resolving storage.googleapis.com (storage.googleapis.com)... 172.253.62.128, 172.253.115.128, 172.253.122.128, ...\n",
            "Connecting to storage.googleapis.com (storage.googleapis.com)|172.253.62.128|:443... connected.\n",
            "HTTP request sent, awaiting response... 200 OK\n",
            "Length: 133612354 (127M) [application/zip]\n",
            "Saving to: ‘10_food_classes_1_percent.zip’\n",
            "\n",
            "10_food_classes_1_p 100%[===================>] 127.42M   118MB/s    in 1.1s    \n",
            "\n",
            "2022-08-04 23:27:27 (118 MB/s) - ‘10_food_classes_1_percent.zip’ saved [133612354/133612354]\n",
            "\n"
          ]
        }
      ]
    },
    {
      "cell_type": "code",
      "source": [
        "# let's unzip the data....\n",
        "zipfile = zipfile.ZipFile(\"/content/10_food_classes_1_percent.zip\")\n",
        "zipfile.extractall()\n",
        "zipfile.close()"
      ],
      "metadata": {
        "id": "Rd1MIanhL2tr"
      },
      "execution_count": null,
      "outputs": []
    },
    {
      "cell_type": "code",
      "source": [
        "# creating directories of 1% data\n",
        "# /content/10_food_classes_1_percent/train\n",
        "train_dir_1_percent = \"/content/10_food_classes_1_percent/train\"\n",
        "test_dir_1_percent = \"/content/10_food_classes_1_percent/test/\""
      ],
      "metadata": {
        "id": "Tx8D8w0BMLrY"
      },
      "execution_count": null,
      "outputs": []
    },
    {
      "cell_type": "code",
      "source": [
        "# but first let's walk through the directory\n",
        "for dirpath,dirnames,filenames in os.walk(\"10_food_classes_1_percent\"):\n",
        "  print(f\"There are {len(dirnames)} directories and {len(filenames)} images in {dirpath}.\")"
      ],
      "metadata": {
        "colab": {
          "base_uri": "https://localhost:8080/"
        },
        "id": "agW0nraXMlGB",
        "outputId": "0f41c323-4e88-42df-db74-a87432edc580"
      },
      "execution_count": null,
      "outputs": [
        {
          "output_type": "stream",
          "name": "stdout",
          "text": [
            "There are 2 directories and 0 images in 10_food_classes_1_percent.\n",
            "There are 10 directories and 0 images in 10_food_classes_1_percent/train.\n",
            "There are 0 directories and 7 images in 10_food_classes_1_percent/train/steak.\n",
            "There are 0 directories and 7 images in 10_food_classes_1_percent/train/chicken_wings.\n",
            "There are 0 directories and 7 images in 10_food_classes_1_percent/train/grilled_salmon.\n",
            "There are 0 directories and 7 images in 10_food_classes_1_percent/train/chicken_curry.\n",
            "There are 0 directories and 7 images in 10_food_classes_1_percent/train/pizza.\n",
            "There are 0 directories and 7 images in 10_food_classes_1_percent/train/fried_rice.\n",
            "There are 0 directories and 7 images in 10_food_classes_1_percent/train/ice_cream.\n",
            "There are 0 directories and 7 images in 10_food_classes_1_percent/train/sushi.\n",
            "There are 0 directories and 7 images in 10_food_classes_1_percent/train/hamburger.\n",
            "There are 0 directories and 7 images in 10_food_classes_1_percent/train/ramen.\n",
            "There are 10 directories and 0 images in 10_food_classes_1_percent/test.\n",
            "There are 0 directories and 250 images in 10_food_classes_1_percent/test/steak.\n",
            "There are 0 directories and 250 images in 10_food_classes_1_percent/test/chicken_wings.\n",
            "There are 0 directories and 250 images in 10_food_classes_1_percent/test/grilled_salmon.\n",
            "There are 0 directories and 250 images in 10_food_classes_1_percent/test/chicken_curry.\n",
            "There are 0 directories and 250 images in 10_food_classes_1_percent/test/pizza.\n",
            "There are 0 directories and 250 images in 10_food_classes_1_percent/test/fried_rice.\n",
            "There are 0 directories and 250 images in 10_food_classes_1_percent/test/ice_cream.\n",
            "There are 0 directories and 250 images in 10_food_classes_1_percent/test/sushi.\n",
            "There are 0 directories and 250 images in 10_food_classes_1_percent/test/hamburger.\n",
            "There are 0 directories and 250 images in 10_food_classes_1_percent/test/ramen.\n"
          ]
        }
      ]
    },
    {
      "cell_type": "code",
      "source": [
        "# let's load our images...\n",
        "IMAGE_SIZE = (224,224)\n",
        "\n",
        "train_data_1_percent = tf.keras.preprocessing.image_dataset_from_directory(train_dir_1_percent,\n",
        "                                                                           label_mode='categorical',\n",
        "                                                                           batch_size=32,image_size=IMAGE_SIZE)\n",
        "test_data = tf.keras.preprocessing.image_dataset_from_directory(test_dir_1_percent,\n",
        "                                                                label_mode='categorical',\n",
        "                                                                image_size=IMAGE_SIZE)\n"
      ],
      "metadata": {
        "colab": {
          "base_uri": "https://localhost:8080/"
        },
        "id": "2TE1g6jCNDEd",
        "outputId": "29a670c5-c070-4e57-bac4-8b4f966c8877"
      },
      "execution_count": null,
      "outputs": [
        {
          "output_type": "stream",
          "name": "stdout",
          "text": [
            "Found 70 files belonging to 10 classes.\n",
            "Found 2500 files belonging to 10 classes.\n"
          ]
        }
      ]
    },
    {
      "cell_type": "code",
      "source": [
        "# previously we do data-augmentation in the ImageDataGenerator to augment our training images,this time we're going to build data\n",
        "# augmentation right into the model\n",
        "\n",
        "# create data-augmentation stage with horizontal flipping, rotation, zooms\n",
        "data_augmentation = Sequential([\n",
        "    preprocessing.RandomFlip('horizontal'),\n",
        "    preprocessing.RandomZoom(0.2),\n",
        "    preprocessing.RandomRotation(0.2),\n",
        "    preprocessing.RandomHeight(0.2),\n",
        "    preprocessing.RandomWidth(0.2),],name=\"data_augmentation\")"
      ],
      "metadata": {
        "id": "rTz5I5kpWH5c"
      },
      "execution_count": null,
      "outputs": []
    },
    {
      "cell_type": "markdown",
      "source": [
        "## Model 1 : Feautr Extraction model on 1% data with data augmentation"
      ],
      "metadata": {
        "id": "BioiCvKaZZsJ"
      }
    },
    {
      "cell_type": "code",
      "source": [
        "# let's build the model\n",
        "# set the random seed\n",
        "tf.random.set_seed(42)\n",
        "\n",
        "# set-up the base-model\n",
        "base_model = tf.keras.applications.EfficientNetB0(include_top=False)\n",
        "\n",
        "# frooze the pre-trained learned patterns\n",
        "base_model.trainable=False\n",
        "\n",
        "# setting up the inputs \n",
        "inputs = tf.keras.layers.Input(shape=(224,224,3),name='input_layer')\n",
        "\n",
        "# setting up the data-augmentation\n",
        "x = data_augmentation(inputs)\n",
        "\n",
        "# give the base model inputs after data-augmentation\n",
        "x = base_model(x,training=False)\n",
        "\n",
        "# pool the features\n",
        "x = tf.keras.layers.GlobalAveragePooling2D(name='pooling_layer')(x)\n",
        "\n",
        "# output layer\n",
        "outputs = tf.keras.layers.Dense(10,activation='softmax',name='output_layer')(x)\n",
        "\n",
        "# combining the layers and making up the model\n",
        "model_1 = tf.keras.Model(inputs,outputs)\n",
        "\n",
        "# compile the model\n",
        "model_1.compile(loss='categorical_crossentropy',\n",
        "                optimizer=tf.keras.optimizers.Adam(),\n",
        "                metrics=['accuracy'])\n",
        "\n",
        "# fitting the model\n",
        "history_1 = model_1.fit(train_data_1_percent,\n",
        "                        epochs=5,\n",
        "                        steps_per_epoch= len(train_data_1_percent),\n",
        "                        validation_data = test_data,\n",
        "                        validation_steps = int(0.25 * len(test_data)),\n",
        "                        callbacks = [create_tensorboard_callback('transfer_learning',\"1_percent_data_aug\")])"
      ],
      "metadata": {
        "colab": {
          "base_uri": "https://localhost:8080/"
        },
        "id": "A0HiK-8gZW8v",
        "outputId": "d0759b01-7a1a-4feb-a310-56105e3957e5"
      },
      "execution_count": null,
      "outputs": [
        {
          "output_type": "stream",
          "name": "stdout",
          "text": [
            "Saving TensorBoard Files to : transfer_learning/1_percent_data_aug/20220805-003841\n",
            "Epoch 1/5\n",
            "3/3 [==============================] - 11s 2s/step - loss: 2.4304 - accuracy: 0.0857 - val_loss: 2.3576 - val_accuracy: 0.1036\n",
            "Epoch 2/5\n",
            "3/3 [==============================] - 3s 1s/step - loss: 2.2008 - accuracy: 0.1857 - val_loss: 2.2457 - val_accuracy: 0.1661\n",
            "Epoch 3/5\n",
            "3/3 [==============================] - 3s 1s/step - loss: 1.9939 - accuracy: 0.3000 - val_loss: 2.1251 - val_accuracy: 0.2368\n",
            "Epoch 4/5\n",
            "3/3 [==============================] - 6s 3s/step - loss: 1.7991 - accuracy: 0.4714 - val_loss: 2.0509 - val_accuracy: 0.2812\n",
            "Epoch 5/5\n",
            "3/3 [==============================] - 4s 2s/step - loss: 1.6678 - accuracy: 0.6286 - val_loss: 1.9647 - val_accuracy: 0.3289\n"
          ]
        }
      ]
    },
    {
      "cell_type": "code",
      "source": [
        "# let's check-out the model summary\n",
        "model_1.summary()"
      ],
      "metadata": {
        "colab": {
          "base_uri": "https://localhost:8080/"
        },
        "id": "cA0iZxbicCwY",
        "outputId": "5d9ff7f6-0d75-4fd5-fb4b-f3758cb1145c"
      },
      "execution_count": null,
      "outputs": [
        {
          "output_type": "stream",
          "name": "stdout",
          "text": [
            "Model: \"model_2\"\n",
            "_________________________________________________________________\n",
            " Layer (type)                Output Shape              Param #   \n",
            "=================================================================\n",
            " input_layer (InputLayer)    [(None, 224, 224, 3)]     0         \n",
            "                                                                 \n",
            " data_augmentation (Sequenti  (None, 224, 224, 3)      0         \n",
            " al)                                                             \n",
            "                                                                 \n",
            " efficientnetb0 (Functional)  (None, None, None, 1280)  4049571  \n",
            "                                                                 \n",
            " pooling_layer (GlobalAverag  (None, 1280)             0         \n",
            " ePooling2D)                                                     \n",
            "                                                                 \n",
            " output_layer (Dense)        (None, 10)                12810     \n",
            "                                                                 \n",
            "=================================================================\n",
            "Total params: 4,062,381\n",
            "Trainable params: 12,810\n",
            "Non-trainable params: 4,049,571\n",
            "_________________________________________________________________\n"
          ]
        }
      ]
    },
    {
      "cell_type": "code",
      "source": [
        "# visualize the model performance\n",
        "plot_loss_curves(history_1)"
      ],
      "metadata": {
        "colab": {
          "base_uri": "https://localhost:8080/",
          "height": 573
        },
        "id": "qG26Qc8ocqLT",
        "outputId": "9c0ebd42-e6da-4273-dae6-f8fa7f4be62c"
      },
      "execution_count": null,
      "outputs": [
        {
          "output_type": "display_data",
          "data": {
            "text/plain": [
              "<Figure size 432x288 with 1 Axes>"
            ],
            "image/png": "[encoded data removed]"
          },
          "metadata": {
            "needs_background": "light"
          }
        },
        {
          "output_type": "display_data",
          "data": {
            "text/plain": [
              "<Figure size 432x288 with 1 Axes>"
            ],
            "image/png": "[encoded data removed]"
          },
          "metadata": {
            "needs_background": "light"
          }
        }
      ]
    },
    {
      "cell_type": "markdown",
      "source": [
        "## Model 2 : Feature extraction transfer learning on 10% with data-augmentation"
      ],
      "metadata": {
        "id": "RC7UN_T_c8hq"
      }
    },
    {
      "cell_type": "code",
      "source": [
        "# make dir for 10% data\n",
        "train_dir_10_percent = \"10_food_classes_10_percent/train/\"\n",
        "test_dir = \"10_food_classes_10_percent/test/\""
      ],
      "metadata": {
        "id": "qXSI9pFXczzh"
      },
      "execution_count": null,
      "outputs": []
    },
    {
      "cell_type": "code",
      "source": [
        "# create the data-loaders for augmentation\n",
        "IMAGE_SHAPE = (224,224)\n",
        "train_data_10_percent = tf.keras.preprocessing.image_dataset_from_directory(train_dir_10_percent,\n",
        "                                                                            image_size=IMAGE_SHAPE,\n",
        "                                                                            label_mode='categorical',\n",
        "                                                                            )\n",
        "test_data = tf.keras.preprocessing.image_dataset_from_directory(test_dir,\n",
        "                                                                image_size=IMAGE_SHAPE,\n",
        "                                                                label_mode='categorical')"
      ],
      "metadata": {
        "colab": {
          "base_uri": "https://localhost:8080/"
        },
        "id": "Sm6KcfWwdm_-",
        "outputId": "fe23aa81-3384-4461-99f7-5070417bf012"
      },
      "execution_count": null,
      "outputs": [
        {
          "output_type": "stream",
          "name": "stdout",
          "text": [
            "Found 750 files belonging to 10 classes.\n",
            "Found 2500 files belonging to 10 classes.\n"
          ]
        }
      ]
    },
    {
      "cell_type": "code",
      "source": [
        "# create data-augmentation layer for 10% data\n",
        "data_augmentation = Sequential([\n",
        "    preprocessing.RandomFlip('horizontal'),\n",
        "    preprocessing.RandomHeight(0.2),\n",
        "    preprocessing.RandomWidth(0.2),\n",
        "    preprocessing.RandomRotation(0.2),\n",
        "    preprocessing.RandomZoom(0.2)\n",
        "],name='data-augmentation')"
      ],
      "metadata": {
        "id": "o9O_3Ld0eQDq"
      },
      "execution_count": null,
      "outputs": []
    },
    {
      "cell_type": "code",
      "source": [
        "# let's build the model\n",
        "\n",
        "# set the random-seed\n",
        "tf.random.set_seed(42)\n",
        "\n",
        "# set the base model\n",
        "base_model = tf.keras.applications.EfficientNetB0(include_top=False) #because we'll make our own output layers\n",
        "# set the trainable false\n",
        "base_model.trainable = False\n",
        "\n",
        "# input layer\n",
        "inputs = tf.keras.layers.Input(shape=(224,224,3),name='input_layer')\n",
        "\n",
        "x = data_augmentation(inputs)\n",
        "x = base_model(x,training=False)\n",
        "x = tf.keras.layers.MaxPooling2D(name='global_average_pooling_layer')(x)\n",
        "\n",
        "# output layer\n",
        "output = tf.keras.layers.Dense(10,activation='softmax',name='output')(x)\n",
        "\n",
        "# making model\n",
        "model_2 = tf.keras.Model(inputs,output)\n",
        "\n",
        "# compile the model\n",
        "model_2.compile(loss='categorical_crossentropy',\n",
        "                optimizer=tf.keras.optimizers.Adam(),\n",
        "                metrics=['accuracy'])\n",
        "\n",
        "# fitting the model\n",
        "history_2 = model_2.fit(train_data_10_percent,\n",
        "                        epochs=5,\n",
        "                        steps_per_epoch= len(train_data_10_percent),\n",
        "                        validation_data = test_data,\n",
        "                        validation_steps = int(0.25 * len(test_data)),)\n",
        "                        #callbacks = [create_tensorboard_callback('transfer_learning',\"10_percent_data_aug\")])"
      ],
      "metadata": {
        "colab": {
          "base_uri": "https://localhost:8080/",
          "height": 800
        },
        "id": "DwyH5jsWeyaM",
        "outputId": "9c6ccc48-8ddc-4110-9353-aa01c2b9e276"
      },
      "execution_count": null,
      "outputs": [
        {
          "output_type": "stream",
          "name": "stdout",
          "text": [
            "Epoch 1/5\n"
          ]
        },
        {
          "output_type": "error",
          "ename": "ValueError",
          "evalue": "ignored",
          "traceback": [
            "\u001b[0;31m---------------------------------------------------------------------------\u001b[0m",
            "\u001b[0;31mValueError\u001b[0m                                Traceback (most recent call last)",
            "\u001b[0;32m<ipython-input-109-00ae8a8f493e>\u001b[0m in \u001b[0;36m<module>\u001b[0;34m()\u001b[0m\n\u001b[1;32m     32\u001b[0m                         \u001b[0msteps_per_epoch\u001b[0m\u001b[0;34m=\u001b[0m \u001b[0mlen\u001b[0m\u001b[0;34m(\u001b[0m\u001b[0mtrain_data_10_percent\u001b[0m\u001b[0;34m)\u001b[0m\u001b[0;34m,\u001b[0m\u001b[0;34m\u001b[0m\u001b[0;34m\u001b[0m\u001b[0m\n\u001b[1;32m     33\u001b[0m                         \u001b[0mvalidation_data\u001b[0m \u001b[0;34m=\u001b[0m \u001b[0mtest_data\u001b[0m\u001b[0;34m,\u001b[0m\u001b[0;34m\u001b[0m\u001b[0;34m\u001b[0m\u001b[0m\n\u001b[0;32m---> 34\u001b[0;31m                         validation_steps = int(0.25 * len(test_data)),)\n\u001b[0m\u001b[1;32m     35\u001b[0m                         \u001b[0;31m#callbacks = [create_tensorboard_callback('transfer_learning',\"10_percent_data_aug\")])\u001b[0m\u001b[0;34m\u001b[0m\u001b[0;34m\u001b[0m\u001b[0;34m\u001b[0m\u001b[0m\n",
            "\u001b[0;32m/usr/local/lib/python3.7/dist-packages/keras/utils/traceback_utils.py\u001b[0m in \u001b[0;36merror_handler\u001b[0;34m(*args, **kwargs)\u001b[0m\n\u001b[1;32m     65\u001b[0m     \u001b[0;32mexcept\u001b[0m \u001b[0mException\u001b[0m \u001b[0;32mas\u001b[0m \u001b[0me\u001b[0m\u001b[0;34m:\u001b[0m  \u001b[0;31m# pylint: disable=broad-except\u001b[0m\u001b[0;34m\u001b[0m\u001b[0;34m\u001b[0m\u001b[0m\n\u001b[1;32m     66\u001b[0m       \u001b[0mfiltered_tb\u001b[0m \u001b[0;34m=\u001b[0m \u001b[0m_process_traceback_frames\u001b[0m\u001b[0;34m(\u001b[0m\u001b[0me\u001b[0m\u001b[0;34m.\u001b[0m\u001b[0m__traceback__\u001b[0m\u001b[0;34m)\u001b[0m\u001b[0;34m\u001b[0m\u001b[0;34m\u001b[0m\u001b[0m\n\u001b[0;32m---> 67\u001b[0;31m       \u001b[0;32mraise\u001b[0m \u001b[0me\u001b[0m\u001b[0;34m.\u001b[0m\u001b[0mwith_traceback\u001b[0m\u001b[0;34m(\u001b[0m\u001b[0mfiltered_tb\u001b[0m\u001b[0;34m)\u001b[0m \u001b[0;32mfrom\u001b[0m \u001b[0;32mNone\u001b[0m\u001b[0;34m\u001b[0m\u001b[0;34m\u001b[0m\u001b[0m\n\u001b[0m\u001b[1;32m     68\u001b[0m     \u001b[0;32mfinally\u001b[0m\u001b[0;34m:\u001b[0m\u001b[0;34m\u001b[0m\u001b[0;34m\u001b[0m\u001b[0m\n\u001b[1;32m     69\u001b[0m       \u001b[0;32mdel\u001b[0m \u001b[0mfiltered_tb\u001b[0m\u001b[0;34m\u001b[0m\u001b[0;34m\u001b[0m\u001b[0m\n",
            "\u001b[0;32m/usr/local/lib/python3.7/dist-packages/tensorflow/python/framework/func_graph.py\u001b[0m in \u001b[0;36mautograph_handler\u001b[0;34m(*args, **kwargs)\u001b[0m\n\u001b[1;32m   1145\u001b[0m           \u001b[0;32mexcept\u001b[0m \u001b[0mException\u001b[0m \u001b[0;32mas\u001b[0m \u001b[0me\u001b[0m\u001b[0;34m:\u001b[0m  \u001b[0;31m# pylint:disable=broad-except\u001b[0m\u001b[0;34m\u001b[0m\u001b[0;34m\u001b[0m\u001b[0m\n\u001b[1;32m   1146\u001b[0m             \u001b[0;32mif\u001b[0m \u001b[0mhasattr\u001b[0m\u001b[0;34m(\u001b[0m\u001b[0me\u001b[0m\u001b[0;34m,\u001b[0m \u001b[0;34m\"ag_error_metadata\"\u001b[0m\u001b[0;34m)\u001b[0m\u001b[0;34m:\u001b[0m\u001b[0;34m\u001b[0m\u001b[0;34m\u001b[0m\u001b[0m\n\u001b[0;32m-> 1147\u001b[0;31m               \u001b[0;32mraise\u001b[0m \u001b[0me\u001b[0m\u001b[0;34m.\u001b[0m\u001b[0mag_error_metadata\u001b[0m\u001b[0;34m.\u001b[0m\u001b[0mto_exception\u001b[0m\u001b[0;34m(\u001b[0m\u001b[0me\u001b[0m\u001b[0;34m)\u001b[0m\u001b[0;34m\u001b[0m\u001b[0;34m\u001b[0m\u001b[0m\n\u001b[0m\u001b[1;32m   1148\u001b[0m             \u001b[0;32melse\u001b[0m\u001b[0;34m:\u001b[0m\u001b[0;34m\u001b[0m\u001b[0;34m\u001b[0m\u001b[0m\n\u001b[1;32m   1149\u001b[0m               \u001b[0;32mraise\u001b[0m\u001b[0;34m\u001b[0m\u001b[0;34m\u001b[0m\u001b[0m\n",
            "\u001b[0;31mValueError\u001b[0m: in user code:\n\n    File \"/usr/local/lib/python3.7/dist-packages/keras/engine/training.py\", line 1021, in train_function  *\n        return step_function(self, iterator)\n    File \"/usr/local/lib/python3.7/dist-packages/keras/engine/training.py\", line 1010, in step_function  **\n        outputs = model.distribute_strategy.run(run_step, args=(data,))\n    File \"/usr/local/lib/python3.7/dist-packages/keras/engine/training.py\", line 1000, in run_step  **\n        outputs = model.train_step(data)\n    File \"/usr/local/lib/python3.7/dist-packages/keras/engine/training.py\", line 860, in train_step\n        loss = self.compute_loss(x, y, y_pred, sample_weight)\n    File \"/usr/local/lib/python3.7/dist-packages/keras/engine/training.py\", line 919, in compute_loss\n        y, y_pred, sample_weight, regularization_losses=self.losses)\n    File \"/usr/local/lib/python3.7/dist-packages/keras/engine/compile_utils.py\", line 201, in __call__\n        loss_value = loss_obj(y_t, y_p, sample_weight=sw)\n    File \"/usr/local/lib/python3.7/dist-packages/keras/losses.py\", line 141, in __call__\n        losses = call_fn(y_true, y_pred)\n    File \"/usr/local/lib/python3.7/dist-packages/keras/losses.py\", line 245, in call  **\n        return ag_fn(y_true, y_pred, **self._fn_kwargs)\n    File \"/usr/local/lib/python3.7/dist-packages/keras/losses.py\", line 1790, in categorical_crossentropy\n        y_true, y_pred, from_logits=from_logits, axis=axis)\n    File \"/usr/local/lib/python3.7/dist-packages/keras/backend.py\", line 5083, in categorical_crossentropy\n        target.shape.assert_is_compatible_with(output.shape)\n\n    ValueError: Shapes (None, 10) and (None, None, None, 10) are incompatible\n"
          ]
        }
      ]
    },
    {
      "cell_type": "code",
      "source": [
        ""
      ],
      "metadata": {
        "id": "17bCf-ZcgqD7"
      },
      "execution_count": null,
      "outputs": []
    }
  ]
}